{
 "cells": [
  {
   "cell_type": "code",
   "execution_count": 88,
   "metadata": {},
   "outputs": [],
   "source": [
    "import numpy as np\n",
    "import pandas as pd\n",
    "import utils\n",
    "import tester\n",
    "import dataset\n",
    "import importlib\n",
    "from scipy import spatial\n",
    "from IPython.display import display"
   ]
  },
  {
   "cell_type": "code",
   "execution_count": 112,
   "metadata": {},
   "outputs": [
    {
     "data": {
      "text/plain": [
       "<module 'utils' from '/mnt/c/Users/ErickLima/Desktop/UFC/Mestrado/Pattern Recognition/utils.py'>"
      ]
     },
     "execution_count": 112,
     "metadata": {},
     "output_type": "execute_result"
    }
   ],
   "source": [
    "importlib.reload(utils)"
   ]
  },
  {
   "cell_type": "code",
   "execution_count": 107,
   "metadata": {},
   "outputs": [],
   "source": [
    "class KNN:\n",
    "    \n",
    "    def __init__(self, k=1):\n",
    "        self.k = k\n",
    "        self.X = None\n",
    "        self.Y = None\n",
    "        self.kdTree = None\n",
    "    \n",
    "    def train(self, X_train, Y_train):\n",
    "        self.X = X_train\n",
    "        self.Y = Y_train\n",
    "        self.kdTree = spatial.cKDTree(self.X, leafsize=10)\n",
    "        \n",
    "    def predict(self, x):\n",
    "        if self.X is not None:\n",
    "#             sorted_values = sorted(self.values, key= lambda val : utils.distance(val[0], x))\n",
    "            print(sorted([utils.distance(val[0], x) for val in self.X]))\n",
    "#             k_nearest = sorted_values[:self.k]\n",
    "            query = self.kdTree.query(x, k=self.k)\n",
    "            if self.k == 1:\n",
    "                return self.Y[query[1]]\n",
    "            \n",
    "            classes = np.array([self.Y[i] for i in query[1]])\n",
    "            \n",
    "            return np.bincount(classes).argmax()\n",
    "    \n",
    "        else:\n",
    "            print('Not trained')\n",
    "     "
   ]
  },
  {
   "cell_type": "code",
   "execution_count": 108,
   "metadata": {},
   "outputs": [],
   "source": [
    "class DMC:\n",
    "    \n",
    "    def __init__(self):\n",
    "        self.clusters = {}\n",
    "        self.centroids = None\n",
    "    \n",
    "    def train(self, X_train, Y_train):\n",
    "        for i in range(len(X_train)):\n",
    "            if Y_train[i] not in self.clusters:\n",
    "                self.clusters[Y_train[i]] = []\n",
    "            self.clusters[Y_train[i]].append(X_train[i])\n",
    "            \n",
    "        self.clusters = {k : np.array(self.clusters[k]) for k in self.clusters}\n",
    "        \n",
    "        self.centroids = {k : np.mean(self.clusters[k], axis=0) for k in self.clusters}\n",
    "        \n",
    "    def predict(self, x):\n",
    "        if self.centroids:\n",
    "            return min(self.centroids, key=lambda c : utils.distance(self.centroids[c], x))\n",
    "    \n",
    "        else:\n",
    "            print('Not trained')"
   ]
  },
  {
   "cell_type": "code",
   "execution_count": 109,
   "metadata": {},
   "outputs": [],
   "source": [
    "class CQG:\n",
    "    \n",
    "    def __init__(self):\n",
    "        self.classes = None\n",
    "        self.centroids = None\n",
    "        self.covariances = None\n",
    "        self.cov_invs = None\n",
    "        self.cov_dets = None\n",
    "        self.a_priori = None\n",
    "        \n",
    "    def __friedman_for_class(self, i, pooled, alpha):\n",
    "        total = sum([len(c) for c in self.classes])\n",
    "        c_len = len(self.classes[i])\n",
    "        return ((1 - alpha) * c_len * self.covariances[i] + alpha * total * pooled) / ((1-alpha) * c_len + alpha * total)\n",
    "        \n",
    "    def regularize_friedman(self, alpha):\n",
    "        total = sum([len(c) for c in self.classes])\n",
    "        pooled = np.sum(np.array([(len(self.classes[i]) / total) * self.covariances[i] for i in range(len(self.classes))]), axis=0)\n",
    "        self.covariances = [self.__friedman_for_class(i, pooled, alpha) for i in range(len(self.classes))]\n",
    "\n",
    "    def __log_gaussian(self, class_n, x):\n",
    "        cov_inv = self.cov_invs[class_n]\n",
    "        cov_det = self.cov_dets[class_n]\n",
    "        z = x - self.centroids[class_n]\n",
    "        return - 0.5 * (np.dot(z, np.dot(cov_inv, z)) + np.log(cov_det))\n",
    "\n",
    "    def a_posteriori(self, x):\n",
    "        return np.array([self.__log_gaussian(i, x) for i in range(len(self.classes))])\n",
    "    \n",
    "    def train(self, X_train, Y_train):\n",
    "        cd = utils.to_class_dict(X_train, Y_train)\n",
    "        self.classes = [cd[y] for y in sorted(cd)]\n",
    "        \n",
    "        self.centroids = [np.mean(c, axis=0) for c in self.classes]\n",
    "        self.covariances = [utils.cov(c) for c in self.classes]\n",
    "        \n",
    "        if any([np.linalg.matrix_rank(cov_mat) != cov_mat.shape[0] for cov_mat in self.covariances]):\n",
    "            self.regularize_friedman(0.3)\n",
    "            \n",
    "        self.cov_invs = [np.linalg.inv(cov) for cov in self.covariances]\n",
    "        self.cov_dets = [np.linalg.det(cov) for cov in self.covariances]\n",
    "        self.a_priori = np.array([ np.log(len(c)) for c in self.classes ])\n",
    "        \n",
    "    def predict(self, x):\n",
    "        if self.centroids and self.covariances:\n",
    "            probabilities = self.a_priori + self.a_posteriori(x)\n",
    "            return probabilities.argmax()\n",
    "        else:\n",
    "            print('Not trained')"
   ]
  },
  {
   "cell_type": "code",
   "execution_count": 156,
   "metadata": {},
   "outputs": [],
   "source": [
    "model_tester = tester.Tester(dataset.Parkinsons(True), KNN())\n",
    "model_tester.test(transform='')"
   ]
  },
  {
   "cell_type": "code",
   "execution_count": 157,
   "metadata": {},
   "outputs": [
    {
     "name": "stdout",
     "output_type": "stream",
     "text": [
      "[[ 921.   79.]\n",
      " [ 141. 2859.]]\n",
      "Mean accuracy: 0.945\n",
      "Specificity: 0.867231638418079\n",
      "Sensibility: 0.9731109598366235\n"
     ]
    }
   ],
   "source": [
    "statistics = model_tester.statistics()\n",
    "statistics.print_all()"
   ]
  },
  {
   "cell_type": "code",
   "execution_count": null,
   "metadata": {},
   "outputs": [],
   "source": []
  }
 ],
 "metadata": {
  "kernelspec": {
   "display_name": "Python 3",
   "language": "python",
   "name": "python3"
  },
  "language_info": {
   "codemirror_mode": {
    "name": "ipython",
    "version": 3
   },
   "file_extension": ".py",
   "mimetype": "text/x-python",
   "name": "python",
   "nbconvert_exporter": "python",
   "pygments_lexer": "ipython3",
   "version": "3.6.5"
  }
 },
 "nbformat": 4,
 "nbformat_minor": 2
}
