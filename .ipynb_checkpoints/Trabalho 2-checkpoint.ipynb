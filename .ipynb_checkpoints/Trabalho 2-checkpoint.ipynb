{
 "cells": [
  {
   "cell_type": "markdown",
   "metadata": {},
   "source": [
    "<h1 style=\"text-align: center;\">Reconhecimento de Padrões - T2</h1>\n",
    "<h2 style=\"text-align: center;\">Erick Lima Trentini</h2>"
   ]
  },
  {
   "cell_type": "markdown",
   "metadata": {},
   "source": [
    "# 1. Introdução\n",
    "\n",
    "Neste trabalho iremos testar a acurácia de vários modelos de classificação, utilizando de um método de prototipação de dados devido à grande quantidade de dados. \n",
    "\n",
    "Com isso é possível não só reduzir a quantidade de dados com que os modelos irão trabalhar, como é possível balancear o dataset criando protótipos apenas para as classes mais numerosas, ou utilizando o mesmo número de protótipos para cada classe."
   ]
  },
  {
   "cell_type": "code",
   "execution_count": 3,
   "metadata": {},
   "outputs": [],
   "source": [
    "from sklearn.cluster import MiniBatchKMeans\n",
    "import datasets\n",
    "import utils\n",
    "import tester\n",
    "import models\n",
    "import numpy as np\n",
    "from scipy import spatial\n",
    "import matplotlib.pyplot as plt\n",
    "import progressbar\n",
    "%matplotlib inline"
   ]
  },
  {
   "cell_type": "markdown",
   "metadata": {},
   "source": [
    "# 2. Dataset\n",
    "\n",
    "Este dataset é um conjunto de clientes de cartão de crédito, onde os atributos são características do cliente e o label indica se o cliente é um bom pagador ou não.\n",
    "\n",
    "Alguns dos atributos deste dataset são categóricos como gênero e escolaridade. Para vermos o impacto disso, foram testados alguns alguns modelos, comparando suas performances no dataset original e um processado com atributos criados para cada categoria dos atributos categóricos."
   ]
  },
  {
   "cell_type": "code",
   "execution_count": 278,
   "metadata": {},
   "outputs": [],
   "source": [
    "data = datasets.credit_cards(normalized=False)\n",
    "Y = data.Y\n",
    "X = data.X\n",
    "newX = []\n",
    "for x in X:\n",
    "    gender = [0, 0]\n",
    "    gender[int(x[1])-1] = 1\n",
    "    education = [0, 0, 0, 0, 0, 0]\n",
    "    education[int(x[2]) - 1] = 1\n",
    "    marital = [0, 0, 0]\n",
    "    marital[int(x[3]) - 1] = 1\n",
    "    newX.append(list(x[0:3]) + marital + list(x[4:]))\n",
    "\n",
    "processed_data = datasets.Dataset(newX, Y, normalized = True)"
   ]
  },
  {
   "cell_type": "markdown",
   "metadata": {},
   "source": [
    "Com esse processamento, além de aumentar o número de atributos, os modelos performaram pior que o dataset original, logo o dataset original será utilizado neste trabalho.\n",
    "\n",
    "Para os testes, como as matrizes de covariância são muito mal condicionadas, o melhor resultado foi obtido utilizando a matriz de covariância 'pooled'."
   ]
  },
  {
   "cell_type": "code",
   "execution_count": 280,
   "metadata": {},
   "outputs": [
    {
     "name": "stderr",
     "output_type": "stream",
     "text": [
      "100% (10 of 10) |########################| Elapsed Time: 0:00:02 Time:  0:00:02\n"
     ]
    },
    {
     "name": "stdout",
     "output_type": "stream",
     "text": [
      "Test Accuracy:\n"
     ]
    },
    {
     "data": {
      "text/html": [
       "<table border=\"1\" class=\"dataframe\">\n",
       "  <thead>\n",
       "    <tr style=\"text-align: right;\">\n",
       "      <th>Mean</th>\n",
       "      <th>Median</th>\n",
       "      <th>Min</th>\n",
       "      <th>Max</th>\n",
       "      <th>STD</th>\n",
       "      <th>Specificity</th>\n",
       "      <th>Sensibility</th>\n",
       "    </tr>\n",
       "  </thead>\n",
       "  <tbody>\n",
       "    <tr>\n",
       "      <td>0.810083</td>\n",
       "      <td>0.809667</td>\n",
       "      <td>0.802</td>\n",
       "      <td>0.818333</td>\n",
       "      <td>0.006055</td>\n",
       "      <td>0.968826</td>\n",
       "      <td>0.255857</td>\n",
       "    </tr>\n",
       "  </tbody>\n",
       "</table>"
      ],
      "text/plain": [
       "<IPython.core.display.HTML object>"
      ]
     },
     "metadata": {},
     "output_type": "display_data"
    }
   ],
   "source": [
    "original_data = datasets.Dataset(data.X, data.Y, normalized=True)\n",
    "t = tester.Tester(original_data, models.CQG(friedman_value=1))\n",
    "t.test(n_tests=10)\n",
    "stats = t.statistics()\n",
    "stats.print_all()"
   ]
  },
  {
   "cell_type": "code",
   "execution_count": 279,
   "metadata": {},
   "outputs": [
    {
     "name": "stderr",
     "output_type": "stream",
     "text": [
      "100% (10 of 10) |########################| Elapsed Time: 0:00:02 Time:  0:00:02\n"
     ]
    },
    {
     "name": "stdout",
     "output_type": "stream",
     "text": [
      "Test Accuracy:\n"
     ]
    },
    {
     "data": {
      "text/html": [
       "<table border=\"1\" class=\"dataframe\">\n",
       "  <thead>\n",
       "    <tr style=\"text-align: right;\">\n",
       "      <th>Mean</th>\n",
       "      <th>Median</th>\n",
       "      <th>Min</th>\n",
       "      <th>Max</th>\n",
       "      <th>STD</th>\n",
       "      <th>Specificity</th>\n",
       "      <th>Sensibility</th>\n",
       "    </tr>\n",
       "  </thead>\n",
       "  <tbody>\n",
       "    <tr>\n",
       "      <td>0.792733</td>\n",
       "      <td>0.782</td>\n",
       "      <td>0.774667</td>\n",
       "      <td>0.813833</td>\n",
       "      <td>0.016198</td>\n",
       "      <td>0.989311</td>\n",
       "      <td>0.10356</td>\n",
       "    </tr>\n",
       "  </tbody>\n",
       "</table>"
      ],
      "text/plain": [
       "<IPython.core.display.HTML object>"
      ]
     },
     "metadata": {},
     "output_type": "display_data"
    }
   ],
   "source": [
    "importlib.reload(utils)\n",
    "t = tester.Tester(processed_data, models.CQG(friedman_value=1))\n",
    "t.test(n_tests=10)\n",
    "stats = t.statistics()\n",
    "stats.print_all()"
   ]
  },
  {
   "cell_type": "markdown",
   "metadata": {},
   "source": [
    "## 2.1. Overview do dataset\n",
    "\n",
    "O dataset possui 23 atributos e 30000 entradas, ou seja, é um dataset grande. Além disso os dados são mal distribuídos, tendo-se a maior concentração de dados na classe '0' como podemos ver a seguir."
   ]
  },
  {
   "cell_type": "code",
   "execution_count": 285,
   "metadata": {},
   "outputs": [
    {
     "name": "stdout",
     "output_type": "stream",
     "text": [
      "(30000, 23)\n",
      "{0: 23364, 1: 6636}\n"
     ]
    },
    {
     "data": {
      "image/png": "[encoded data removed]",
      "text/plain": [
       "<Figure size 432x288 with 1 Axes>"
      ]
     },
     "metadata": {
      "needs_background": "light"
     },
     "output_type": "display_data"
    }
   ],
   "source": [
    "print(original_data.X.shape)\n",
    "cd = utils.to_class_dict(original_data.X, original_data.Y)\n",
    "c_sizes = {x:len(cd[x]) for x in sorted(cd)}\n",
    "print(c_sizes)\n",
    "plt.bar([0, 1], [c_sizes[0], c_sizes[1]])\n",
    "plt.xticks([0, 1])\n",
    "plt.show()"
   ]
  },
  {
   "cell_type": "markdown",
   "metadata": {},
   "source": [
    "Aqui está uma representação desses dados com PCA para termos uma noção da distribuição deles no espaço:"
   ]
  },
  {
   "cell_type": "code",
   "execution_count": 286,
   "metadata": {},
   "outputs": [
    {
     "name": "stdout",
     "output_type": "stream",
     "text": [
      "(30000, 13)\n"
     ]
    },
    {
     "data": {
      "image/png": "[encoded data removed]",
      "text/plain": [
       "<Figure size 432x288 with 1 Axes>"
      ]
     },
     "metadata": {
      "needs_background": "light"
     },
     "output_type": "display_data"
    }
   ],
   "source": [
    "pca = utils.PCA()\n",
    "pca.fit(original_data.X)\n",
    "X_ = pca.transform(original_data.X, min_var=0.9)\n",
    "print(X_.shape)\n",
    "plt.scatter(X_[:, 0], X_[:, 1], c=original_data.Y)\n",
    "plt.show()"
   ]
  },
  {
   "cell_type": "markdown",
   "metadata": {},
   "source": [
    "# 3. Prototipação\n",
    "\n",
    "Nesta seção iremos utilizar o algorítmo k-means para criarmos protótipos do dado original, onde cada representante do cluster irá substituir todo o cluster.\n",
    "\n",
    "Para verificarmos que esta é uma boa prototipação, iremos utilizar o índice SSD (Sum of Squared Distances), que como o nome já diz, é a soma de todas as distâncias ao quadrado dos elementos dos clusters para seus representantes."
   ]
  },
  {
   "cell_type": "code",
   "execution_count": 301,
   "metadata": {},
   "outputs": [],
   "source": [
    "def calculateSSD(model, X):\n",
    "    acc = 0\n",
    "    for i, x in enumerate(X):\n",
    "        label = model.labels_[i]\n",
    "        z = x - model.cluster_centers_[label]\n",
    "        acc += np.dot(z, z)\n",
    "\n",
    "    return acc"
   ]
  },
  {
   "cell_type": "markdown",
   "metadata": {},
   "source": [
    "Utilizaremos também o k-means para cada classe do dado original para que se possa prototipar as classes com a mesma quantidade de dados, balanceando assim o dataset."
   ]
  },
  {
   "cell_type": "code",
   "execution_count": null,
   "metadata": {},
   "outputs": [],
   "source": [
    "def createKmeans(data, n_clusters):\n",
    "    model_list = [MiniBatchKMeans(n_clusters=n_clusters, init_size=n_clusters*3) for _ in data.cd]\n",
    "    for y in data.cd:\n",
    "        model_list[y].fit(data.cd[y])\n",
    "        \n",
    "    ssd = sum([calculateSSD(model_list[y], data.cd[y]) for y in data.cd])\n",
    "    return model_list, ssd"
   ]
  },
  {
   "cell_type": "markdown",
   "metadata": {},
   "source": [
    "E uma função para reconstruir o dataset a partir desses representantes."
   ]
  },
  {
   "cell_type": "code",
   "execution_count": 303,
   "metadata": {},
   "outputs": [],
   "source": [
    "def create_custom_dataset(model_list):\n",
    "    X, Y = [], []\n",
    "    for i, m in enumerate(model_list):\n",
    "        X.extend(m.cluster_centers_)\n",
    "        Y.extend([i] * len(m.cluster_centers_))\n",
    "\n",
    "    return datasets.Dataset(np.array(X), np.array(Y), normalized=True)"
   ]
  },
  {
   "cell_type": "markdown",
   "metadata": {},
   "source": [
    "## 3.1. Escolha do K\n",
    "\n",
    "Para fazermos a prototipação, precisamos escolher um K que melhor represente os dados e que não seja perdida muita acurácia ao utilizar os modelos de previsão. \n",
    "\n",
    "Para isso, foram testados alguns modelos com k = {50, 100, 200, 500, 1000, 2000, 5000}"
   ]
  },
  {
   "cell_type": "code",
   "execution_count": 304,
   "metadata": {},
   "outputs": [],
   "source": [
    "def create_list_of_custom_datasets(data):\n",
    "    custom_datasets = []\n",
    "    with progressbar.ProgressBar(max_value=7) as bar:\n",
    "        for i, k in enumerate([50, 100, 200, 500, 1000, 2000, 5000]):\n",
    "            bar.update(i)\n",
    "            model_list = createKmeans(data, k)[0]\n",
    "            custom_datasets.append(create_custom_dataset(model_list))\n",
    "    return custom_datasets\n",
    "\n",
    "def test_k_on_model(custom_datasets, model):\n",
    "    accs = []\n",
    "    for dataset in custom_datasets:\n",
    "        t = tester.Tester(dataset, model)\n",
    "        t.test()\n",
    "        stats = t.statistics()\n",
    "        accs.append(stats.acc_mean())\n",
    "    return accs"
   ]
  },
  {
   "cell_type": "code",
   "execution_count": 305,
   "metadata": {},
   "outputs": [
    {
     "name": "stderr",
     "output_type": "stream",
     "text": [
      "100% (7 of 7) |##########################| Elapsed Time: 0:01:49 Time:  0:01:49\n"
     ]
    }
   ],
   "source": [
    "custom_datasets = create_list_of_custom_datasets(data)"
   ]
  },
  {
   "cell_type": "markdown",
   "metadata": {},
   "source": [
    "#### Teste com KNN (k=3)"
   ]
  },
  {
   "cell_type": "code",
   "execution_count": 306,
   "metadata": {},
   "outputs": [
    {
     "name": "stderr",
     "output_type": "stream",
     "text": [
      "100% (100 of 100) |######################| Elapsed Time: 0:00:00 Time:  0:00:00\n",
      "100% (100 of 100) |######################| Elapsed Time: 0:00:00 Time:  0:00:00\n",
      "100% (100 of 100) |######################| Elapsed Time: 0:00:00 Time:  0:00:00\n",
      "100% (100 of 100) |######################| Elapsed Time: 0:00:01 Time:  0:00:01\n",
      "100% (100 of 100) |######################| Elapsed Time: 0:00:05 Time:  0:00:05\n",
      "100% (100 of 100) |######################| Elapsed Time: 0:00:14 Time:  0:00:14\n",
      "100% (100 of 100) |######################| Elapsed Time: 0:01:09 Time:  0:01:09\n"
     ]
    },
    {
     "data": {
      "image/png": "[encoded data removed]",
      "text/plain": [
       "<Figure size 432x288 with 1 Axes>"
      ]
     },
     "metadata": {
      "needs_background": "light"
     },
     "output_type": "display_data"
    }
   ],
   "source": [
    "accs_knn = test_k_on_model(custom_datasets, models.KNN(3))\n",
    "plt.plot(accs_knn)\n",
    "plt.xticks(range(7), [50, 100, 200, 500, 1000, 2000, 5000])\n",
    "plt.show()"
   ]
  },
  {
   "cell_type": "markdown",
   "metadata": {},
   "source": [
    "#### Teste com CQG"
   ]
  },
  {
   "cell_type": "code",
   "execution_count": 339,
   "metadata": {},
   "outputs": [
    {
     "name": "stderr",
     "output_type": "stream",
     "text": [
      "100% (100 of 100) |######################| Elapsed Time: 0:00:00 Time:  0:00:00\n",
      "100% (100 of 100) |######################| Elapsed Time: 0:00:00 Time:  0:00:00\n",
      "100% (100 of 100) |######################| Elapsed Time: 0:00:00 Time:  0:00:00\n",
      "100% (100 of 100) |######################| Elapsed Time: 0:00:01 Time:  0:00:01\n",
      "100% (100 of 100) |######################| Elapsed Time: 0:00:02 Time:  0:00:02\n",
      "100% (100 of 100) |######################| Elapsed Time: 0:00:03 Time:  0:00:03\n",
      "100% (100 of 100) |######################| Elapsed Time: 0:00:09 Time:  0:00:09\n"
     ]
    },
    {
     "data": {
      "image/png": "[encoded data removed]",
      "text/plain": [
       "<Figure size 432x288 with 1 Axes>"
      ]
     },
     "metadata": {
      "needs_background": "light"
     },
     "output_type": "display_data"
    }
   ],
   "source": [
    "accs_cqg = test_k_on_model(custom_datasets, models.CQG(friedman_value=1))\n",
    "plt.plot(accs_cqg)\n",
    "plt.xticks(range(7), [50, 100, 200, 500, 1000, 2000, 5000])\n",
    "plt.show()"
   ]
  },
  {
   "cell_type": "markdown",
   "metadata": {},
   "source": [
    "#### Teste com DMC"
   ]
  },
  {
   "cell_type": "code",
   "execution_count": 314,
   "metadata": {
    "scrolled": false
   },
   "outputs": [
    {
     "name": "stderr",
     "output_type": "stream",
     "text": [
      "100% (100 of 100) |######################| Elapsed Time: 0:00:00 Time:  0:00:00\n",
      "100% (100 of 100) |######################| Elapsed Time: 0:00:00 Time:  0:00:00\n",
      "100% (100 of 100) |######################| Elapsed Time: 0:00:00 Time:  0:00:00\n",
      "100% (100 of 100) |######################| Elapsed Time: 0:00:00 Time:  0:00:00\n",
      "100% (100 of 100) |######################| Elapsed Time: 0:00:00 Time:  0:00:00\n",
      "100% (100 of 100) |######################| Elapsed Time: 0:00:01 Time:  0:00:01\n",
      "100% (100 of 100) |######################| Elapsed Time: 0:00:04 Time:  0:00:04\n"
     ]
    },
    {
     "data": {
      "image/png": "[encoded data removed]",
      "text/plain": [
       "<Figure size 432x288 with 1 Axes>"
      ]
     },
     "metadata": {
      "needs_background": "light"
     },
     "output_type": "display_data"
    }
   ],
   "source": [
    "accs_dmc = test_k_on_model(custom_datasets, models.DMC())\n",
    "plt.plot(accs_dmc)\n",
    "plt.xticks(range(7), [50, 100, 200, 500, 1000, 2000, 5000])\n",
    "plt.show()"
   ]
  },
  {
   "cell_type": "markdown",
   "metadata": {},
   "source": [
    "Como podemos ver, em média quando utilizamos em torno de 200 protótipos para cada classe os modelos performam de forma desejável, apresentando um bom custo-benefício de redução dos dados.\n",
    "\n",
    "Logo, nada mais justo que utilizar 200 protótipos para calcular as acurácias dos modelos."
   ]
  },
  {
   "cell_type": "markdown",
   "metadata": {},
   "source": [
    "# 4. Testando o Dataset Prototipado\n",
    "\n",
    "Primeiro, iremos rodar o k-médias algumas vezes, buscando reduzir o índice SSD, que indicaria uma menor perda de informação por utilizar protótipos que estejam mais próximos dos dados que eles irão substituir."
   ]
  },
  {
   "cell_type": "code",
   "execution_count": 340,
   "metadata": {},
   "outputs": [
    {
     "name": "stderr",
     "output_type": "stream",
     "text": [
      "100% (20 of 20) |########################| Elapsed Time: 0:00:27 Time:  0:00:27\n"
     ]
    }
   ],
   "source": [
    "min_model_list, min_ssd = None, np.inf\n",
    "with progressbar.ProgressBar(max_value=20) as bar:\n",
    "    for i in range(20):\n",
    "        bar.update(i)\n",
    "        model_list, ssd = createKmeans(data, 200)\n",
    "        if ssd < min_ssd:\n",
    "            min_model_list, min_ssd = model_list, ssd"
   ]
  },
  {
   "cell_type": "markdown",
   "metadata": {},
   "source": [
    "Com ele, criamos o dataset a partir dos protótipos"
   ]
  },
  {
   "cell_type": "code",
   "execution_count": 341,
   "metadata": {},
   "outputs": [],
   "source": [
    "reduced_data = create_custom_dataset(min_model_list)"
   ]
  },
  {
   "cell_type": "markdown",
   "metadata": {},
   "source": [
    "Assim, podemos começar a testar.\n",
    "\n",
    "## 4.1. Testes Sem Redução"
   ]
  },
  {
   "cell_type": "code",
   "execution_count": 320,
   "metadata": {},
   "outputs": [],
   "source": [
    "all_statistics = {}"
   ]
  },
  {
   "cell_type": "markdown",
   "metadata": {},
   "source": [
    "### 4.1.1. KNN (5)"
   ]
  },
  {
   "cell_type": "code",
   "execution_count": 321,
   "metadata": {},
   "outputs": [
    {
     "name": "stderr",
     "output_type": "stream",
     "text": [
      "100% (100 of 100) |######################| Elapsed Time: 0:26:58 Time:  0:26:58\n"
     ]
    },
    {
     "name": "stdout",
     "output_type": "stream",
     "text": [
      "Test Accuracy:\n"
     ]
    },
    {
     "data": {
      "text/html": [
       "<table border=\"1\" class=\"dataframe\">\n",
       "  <thead>\n",
       "    <tr style=\"text-align: right;\">\n",
       "      <th>Mean</th>\n",
       "      <th>Median</th>\n",
       "      <th>Min</th>\n",
       "      <th>Max</th>\n",
       "      <th>STD</th>\n",
       "      <th>Specificity</th>\n",
       "      <th>Sensibility</th>\n",
       "    </tr>\n",
       "  </thead>\n",
       "  <tbody>\n",
       "    <tr>\n",
       "      <td>0.793338</td>\n",
       "      <td>0.793167</td>\n",
       "      <td>0.783</td>\n",
       "      <td>0.802667</td>\n",
       "      <td>0.004457</td>\n",
       "      <td>0.919025</td>\n",
       "      <td>0.349285</td>\n",
       "    </tr>\n",
       "  </tbody>\n",
       "</table>"
      ],
      "text/plain": [
       "<IPython.core.display.HTML object>"
      ]
     },
     "metadata": {},
     "output_type": "display_data"
    }
   ],
   "source": [
    "m_tester = tester.Tester(original_data, models.KNN(k=5))\n",
    "m_tester.test()\n",
    "stats = m_tester.statistics()\n",
    "all_statistics['knn_5'] = stats.get_values()\n",
    "stats.print_all()"
   ]
  },
  {
   "cell_type": "markdown",
   "metadata": {},
   "source": [
    "### 4.1.2. NN"
   ]
  },
  {
   "cell_type": "code",
   "execution_count": 322,
   "metadata": {},
   "outputs": [
    {
     "name": "stderr",
     "output_type": "stream",
     "text": [
      "100% (100 of 100) |######################| Elapsed Time: 0:22:41 Time:  0:22:41\n"
     ]
    },
    {
     "name": "stdout",
     "output_type": "stream",
     "text": [
      "Test Accuracy:\n"
     ]
    },
    {
     "data": {
      "text/html": [
       "<table border=\"1\" class=\"dataframe\">\n",
       "  <thead>\n",
       "    <tr style=\"text-align: right;\">\n",
       "      <th>Mean</th>\n",
       "      <th>Median</th>\n",
       "      <th>Min</th>\n",
       "      <th>Max</th>\n",
       "      <th>STD</th>\n",
       "      <th>Specificity</th>\n",
       "      <th>Sensibility</th>\n",
       "    </tr>\n",
       "  </thead>\n",
       "  <tbody>\n",
       "    <tr>\n",
       "      <td>0.727728</td>\n",
       "      <td>0.728333</td>\n",
       "      <td>0.716667</td>\n",
       "      <td>0.741667</td>\n",
       "      <td>0.005105</td>\n",
       "      <td>0.825176</td>\n",
       "      <td>0.38592</td>\n",
       "    </tr>\n",
       "  </tbody>\n",
       "</table>"
      ],
      "text/plain": [
       "<IPython.core.display.HTML object>"
      ]
     },
     "metadata": {},
     "output_type": "display_data"
    }
   ],
   "source": [
    "m_tester = tester.Tester(original_data, models.KNN(k=1))\n",
    "m_tester.test()\n",
    "stats = m_tester.statistics()\n",
    "all_statistics['nn'] = stats.get_values()\n",
    "stats.print_all()"
   ]
  },
  {
   "cell_type": "markdown",
   "metadata": {},
   "source": [
    "### 4.1.3. DMC"
   ]
  },
  {
   "cell_type": "code",
   "execution_count": 323,
   "metadata": {},
   "outputs": [
    {
     "name": "stderr",
     "output_type": "stream",
     "text": [
      "100% (100 of 100) |######################| Elapsed Time: 0:00:21 Time:  0:00:21\n"
     ]
    },
    {
     "name": "stdout",
     "output_type": "stream",
     "text": [
      "Test Accuracy:\n"
     ]
    },
    {
     "data": {
      "text/html": [
       "<table border=\"1\" class=\"dataframe\">\n",
       "  <thead>\n",
       "    <tr style=\"text-align: right;\">\n",
       "      <th>Mean</th>\n",
       "      <th>Median</th>\n",
       "      <th>Min</th>\n",
       "      <th>Max</th>\n",
       "      <th>STD</th>\n",
       "      <th>Specificity</th>\n",
       "      <th>Sensibility</th>\n",
       "    </tr>\n",
       "  </thead>\n",
       "  <tbody>\n",
       "    <tr>\n",
       "      <td>0.658243</td>\n",
       "      <td>0.658583</td>\n",
       "      <td>0.643333</td>\n",
       "      <td>0.6765</td>\n",
       "      <td>0.006195</td>\n",
       "      <td>0.665725</td>\n",
       "      <td>0.631877</td>\n",
       "    </tr>\n",
       "  </tbody>\n",
       "</table>"
      ],
      "text/plain": [
       "<IPython.core.display.HTML object>"
      ]
     },
     "metadata": {},
     "output_type": "display_data"
    }
   ],
   "source": [
    "m_tester = tester.Tester(original_data, models.DMC())\n",
    "m_tester.test()\n",
    "stats = m_tester.statistics()\n",
    "all_statistics['dmc'] = stats.get_values()\n",
    "stats.print_all()"
   ]
  },
  {
   "cell_type": "markdown",
   "metadata": {},
   "source": [
    "### 4.1.4. CQG"
   ]
  },
  {
   "cell_type": "code",
   "execution_count": 352,
   "metadata": {},
   "outputs": [
    {
     "name": "stderr",
     "output_type": "stream",
     "text": [
      "100% (100 of 100) |######################| Elapsed Time: 0:00:25 Time:  0:00:25\n"
     ]
    },
    {
     "name": "stdout",
     "output_type": "stream",
     "text": [
      "Test Accuracy:\n"
     ]
    },
    {
     "data": {
      "text/html": [
       "<table border=\"1\" class=\"dataframe\">\n",
       "  <thead>\n",
       "    <tr style=\"text-align: right;\">\n",
       "      <th>Mean</th>\n",
       "      <th>Median</th>\n",
       "      <th>Min</th>\n",
       "      <th>Max</th>\n",
       "      <th>STD</th>\n",
       "      <th>Specificity</th>\n",
       "      <th>Sensibility</th>\n",
       "    </tr>\n",
       "  </thead>\n",
       "  <tbody>\n",
       "    <tr>\n",
       "      <td>0.811655</td>\n",
       "      <td>0.811333</td>\n",
       "      <td>0.8015</td>\n",
       "      <td>0.821</td>\n",
       "      <td>0.004851</td>\n",
       "      <td>0.969156</td>\n",
       "      <td>0.257077</td>\n",
       "    </tr>\n",
       "  </tbody>\n",
       "</table>"
      ],
      "text/plain": [
       "<IPython.core.display.HTML object>"
      ]
     },
     "metadata": {},
     "output_type": "display_data"
    }
   ],
   "source": [
    "m_tester = tester.Tester(original_data, models.CQG(friedman_value=1))\n",
    "m_tester.test()\n",
    "stats = m_tester.statistics()\n",
    "all_statistics['cqg'] = stats.get_values()\n",
    "stats.print_all()"
   ]
  },
  {
   "cell_type": "markdown",
   "metadata": {},
   "source": [
    "### 4.1.5. Gaussian NB"
   ]
  },
  {
   "cell_type": "code",
   "execution_count": 326,
   "metadata": {
    "scrolled": true
   },
   "outputs": [
    {
     "name": "stderr",
     "output_type": "stream",
     "text": [
      "100% (100 of 100) |######################| Elapsed Time: 0:00:27 Time:  0:00:27\n"
     ]
    },
    {
     "name": "stdout",
     "output_type": "stream",
     "text": [
      "Test Accuracy:\n"
     ]
    },
    {
     "data": {
      "text/html": [
       "<table border=\"1\" class=\"dataframe\">\n",
       "  <thead>\n",
       "    <tr style=\"text-align: right;\">\n",
       "      <th>Mean</th>\n",
       "      <th>Median</th>\n",
       "      <th>Min</th>\n",
       "      <th>Max</th>\n",
       "      <th>STD</th>\n",
       "      <th>Specificity</th>\n",
       "      <th>Sensibility</th>\n",
       "    </tr>\n",
       "  </thead>\n",
       "  <tbody>\n",
       "    <tr>\n",
       "      <td>0.701255</td>\n",
       "      <td>0.714583</td>\n",
       "      <td>0.558333</td>\n",
       "      <td>0.7695</td>\n",
       "      <td>0.046462</td>\n",
       "      <td>0.714384</td>\n",
       "      <td>0.655134</td>\n",
       "    </tr>\n",
       "  </tbody>\n",
       "</table>"
      ],
      "text/plain": [
       "<IPython.core.display.HTML object>"
      ]
     },
     "metadata": {},
     "output_type": "display_data"
    }
   ],
   "source": [
    "m_tester = tester.Tester(original_data, models.CQG(naive=True))\n",
    "m_tester.test()\n",
    "stats = m_tester.statistics()\n",
    "all_statistics['gnb'] = stats.get_values()\n",
    "stats.print_all()"
   ]
  },
  {
   "cell_type": "markdown",
   "metadata": {},
   "source": [
    "## 4.2. Test With the Reduced Dataset"
   ]
  },
  {
   "cell_type": "markdown",
   "metadata": {},
   "source": [
    "### 4.2.1. KNN (5)"
   ]
  },
  {
   "cell_type": "code",
   "execution_count": 342,
   "metadata": {},
   "outputs": [
    {
     "name": "stderr",
     "output_type": "stream",
     "text": [
      "100% (100 of 100) |######################| Elapsed Time: 0:00:00 Time:  0:00:00\n"
     ]
    },
    {
     "name": "stdout",
     "output_type": "stream",
     "text": [
      "Test Accuracy:\n"
     ]
    },
    {
     "data": {
      "text/html": [
       "<table border=\"1\" class=\"dataframe\">\n",
       "  <thead>\n",
       "    <tr style=\"text-align: right;\">\n",
       "      <th>Mean</th>\n",
       "      <th>Median</th>\n",
       "      <th>Min</th>\n",
       "      <th>Max</th>\n",
       "      <th>STD</th>\n",
       "      <th>Specificity</th>\n",
       "      <th>Sensibility</th>\n",
       "    </tr>\n",
       "  </thead>\n",
       "  <tbody>\n",
       "    <tr>\n",
       "      <td>0.77025</td>\n",
       "      <td>0.775</td>\n",
       "      <td>0.6375</td>\n",
       "      <td>0.8625</td>\n",
       "      <td>0.046361</td>\n",
       "      <td>0.965844</td>\n",
       "      <td>0.573577</td>\n",
       "    </tr>\n",
       "  </tbody>\n",
       "</table>"
      ],
      "text/plain": [
       "<IPython.core.display.HTML object>"
      ]
     },
     "metadata": {},
     "output_type": "display_data"
    }
   ],
   "source": [
    "m_tester = tester.Tester(reduced_data, models.KNN(k=3))\n",
    "m_tester.test()\n",
    "stats = m_tester.statistics()\n",
    "all_statistics['knn_5_red'] = stats.get_values()\n",
    "stats.print_all()"
   ]
  },
  {
   "cell_type": "markdown",
   "metadata": {},
   "source": [
    "### 4.2.2. NN"
   ]
  },
  {
   "cell_type": "code",
   "execution_count": 343,
   "metadata": {},
   "outputs": [
    {
     "name": "stderr",
     "output_type": "stream",
     "text": [
      "100% (100 of 100) |######################| Elapsed Time: 0:00:00 Time:  0:00:00\n"
     ]
    },
    {
     "name": "stdout",
     "output_type": "stream",
     "text": [
      "Test Accuracy:\n"
     ]
    },
    {
     "data": {
      "text/html": [
       "<table border=\"1\" class=\"dataframe\">\n",
       "  <thead>\n",
       "    <tr style=\"text-align: right;\">\n",
       "      <th>Mean</th>\n",
       "      <th>Median</th>\n",
       "      <th>Min</th>\n",
       "      <th>Max</th>\n",
       "      <th>STD</th>\n",
       "      <th>Specificity</th>\n",
       "      <th>Sensibility</th>\n",
       "    </tr>\n",
       "  </thead>\n",
       "  <tbody>\n",
       "    <tr>\n",
       "      <td>0.78575</td>\n",
       "      <td>0.7875</td>\n",
       "      <td>0.6875</td>\n",
       "      <td>0.875</td>\n",
       "      <td>0.047237</td>\n",
       "      <td>0.936165</td>\n",
       "      <td>0.640364</td>\n",
       "    </tr>\n",
       "  </tbody>\n",
       "</table>"
      ],
      "text/plain": [
       "<IPython.core.display.HTML object>"
      ]
     },
     "metadata": {},
     "output_type": "display_data"
    }
   ],
   "source": [
    "m_tester = tester.Tester(reduced_data, models.KNN(k=1))\n",
    "m_tester.test()\n",
    "stats = m_tester.statistics()\n",
    "all_statistics['nn_red'] = stats.get_values()\n",
    "stats.print_all()"
   ]
  },
  {
   "cell_type": "markdown",
   "metadata": {},
   "source": [
    "### 4.2.3. DMC"
   ]
  },
  {
   "cell_type": "code",
   "execution_count": 344,
   "metadata": {},
   "outputs": [
    {
     "name": "stderr",
     "output_type": "stream",
     "text": [
      "100% (100 of 100) |######################| Elapsed Time: 0:00:00 Time:  0:00:00\n"
     ]
    },
    {
     "name": "stdout",
     "output_type": "stream",
     "text": [
      "Test Accuracy:\n"
     ]
    },
    {
     "data": {
      "text/html": [
       "<table border=\"1\" class=\"dataframe\">\n",
       "  <thead>\n",
       "    <tr style=\"text-align: right;\">\n",
       "      <th>Mean</th>\n",
       "      <th>Median</th>\n",
       "      <th>Min</th>\n",
       "      <th>Max</th>\n",
       "      <th>STD</th>\n",
       "      <th>Specificity</th>\n",
       "      <th>Sensibility</th>\n",
       "    </tr>\n",
       "  </thead>\n",
       "  <tbody>\n",
       "    <tr>\n",
       "      <td>0.641</td>\n",
       "      <td>0.64375</td>\n",
       "      <td>0.5375</td>\n",
       "      <td>0.7375</td>\n",
       "      <td>0.04684</td>\n",
       "      <td>0.627063</td>\n",
       "      <td>0.654519</td>\n",
       "    </tr>\n",
       "  </tbody>\n",
       "</table>"
      ],
      "text/plain": [
       "<IPython.core.display.HTML object>"
      ]
     },
     "metadata": {},
     "output_type": "display_data"
    }
   ],
   "source": [
    "m_tester = tester.Tester(reduced_data, models.DMC())\n",
    "m_tester.test()\n",
    "stats = m_tester.statistics()\n",
    "all_statistics['dmc_red'] = stats.get_values()\n",
    "stats.print_all()"
   ]
  },
  {
   "cell_type": "markdown",
   "metadata": {},
   "source": [
    "### 4.2.4. CQG\n",
    "Neste caso, utilizar o parâmetro da regularização de friedman como 0 gerou o melhor resultado."
   ]
  },
  {
   "cell_type": "code",
   "execution_count": 350,
   "metadata": {},
   "outputs": [
    {
     "name": "stderr",
     "output_type": "stream",
     "text": [
      "100% (100 of 100) |######################| Elapsed Time: 0:00:00 Time:  0:00:00\n"
     ]
    },
    {
     "name": "stdout",
     "output_type": "stream",
     "text": [
      "Test Accuracy:\n"
     ]
    },
    {
     "data": {
      "text/html": [
       "<table border=\"1\" class=\"dataframe\">\n",
       "  <thead>\n",
       "    <tr style=\"text-align: right;\">\n",
       "      <th>Mean</th>\n",
       "      <th>Median</th>\n",
       "      <th>Min</th>\n",
       "      <th>Max</th>\n",
       "      <th>STD</th>\n",
       "      <th>Specificity</th>\n",
       "      <th>Sensibility</th>\n",
       "    </tr>\n",
       "  </thead>\n",
       "  <tbody>\n",
       "    <tr>\n",
       "      <td>0.8715</td>\n",
       "      <td>0.875</td>\n",
       "      <td>0.7875</td>\n",
       "      <td>0.9625</td>\n",
       "      <td>0.039334</td>\n",
       "      <td>0.853095</td>\n",
       "      <td>0.890118</td>\n",
       "    </tr>\n",
       "  </tbody>\n",
       "</table>"
      ],
      "text/plain": [
       "<IPython.core.display.HTML object>"
      ]
     },
     "metadata": {},
     "output_type": "display_data"
    }
   ],
   "source": [
    "m_tester = tester.Tester(reduced_data, models.CQG(friedman_value=0))\n",
    "m_tester.test()\n",
    "stats = m_tester.statistics()\n",
    "all_statistics['cqg_red'] = stats.get_values()\n",
    "stats.print_all()"
   ]
  },
  {
   "cell_type": "markdown",
   "metadata": {},
   "source": [
    "### 4.2.5. Gaussian NB"
   ]
  },
  {
   "cell_type": "code",
   "execution_count": 346,
   "metadata": {
    "scrolled": true
   },
   "outputs": [
    {
     "name": "stderr",
     "output_type": "stream",
     "text": [
      "100% (100 of 100) |######################| Elapsed Time: 0:00:00 Time:  0:00:00\n"
     ]
    },
    {
     "name": "stdout",
     "output_type": "stream",
     "text": [
      "Test Accuracy:\n"
     ]
    },
    {
     "data": {
      "text/html": [
       "<table border=\"1\" class=\"dataframe\">\n",
       "  <thead>\n",
       "    <tr style=\"text-align: right;\">\n",
       "      <th>Mean</th>\n",
       "      <th>Median</th>\n",
       "      <th>Min</th>\n",
       "      <th>Max</th>\n",
       "      <th>STD</th>\n",
       "      <th>Specificity</th>\n",
       "      <th>Sensibility</th>\n",
       "    </tr>\n",
       "  </thead>\n",
       "  <tbody>\n",
       "    <tr>\n",
       "      <td>0.833875</td>\n",
       "      <td>0.8375</td>\n",
       "      <td>0.6875</td>\n",
       "      <td>0.95</td>\n",
       "      <td>0.051213</td>\n",
       "      <td>0.827569</td>\n",
       "      <td>0.840241</td>\n",
       "    </tr>\n",
       "  </tbody>\n",
       "</table>"
      ],
      "text/plain": [
       "<IPython.core.display.HTML object>"
      ]
     },
     "metadata": {},
     "output_type": "display_data"
    }
   ],
   "source": [
    "m_tester = tester.Tester(reduced_data, models.CQG(naive=True))\n",
    "m_tester.test()\n",
    "stats = m_tester.statistics()\n",
    "all_statistics['gnb_red'] = stats.get_values()\n",
    "stats.print_all()"
   ]
  },
  {
   "cell_type": "markdown",
   "metadata": {},
   "source": [
    "## 4.3. Todos os Resultados"
   ]
  },
  {
   "cell_type": "code",
   "execution_count": 353,
   "metadata": {},
   "outputs": [
    {
     "data": {
      "text/html": [
       "<style  type=\"text/css\" >\n",
       "    #T_30b6d5c0_f688_11e8_a3a5_6b077cae7462 th {\n",
       "          font-size: 14px;\n",
       "          text-align: center;\n",
       "          font-weight: bold;\n",
       "          color: #6d6d6d;\n",
       "          background-color: #DDD;\n",
       "    }    #T_30b6d5c0_f688_11e8_a3a5_6b077cae7462 td {\n",
       "          font-size: 14px;\n",
       "          text-align: center;\n",
       "    }</style>  \n",
       "<table id=\"T_30b6d5c0_f688_11e8_a3a5_6b077cae7462\" > \n",
       "<thead>    <tr> \n",
       "        <th class=\"blank level0\" ></th> \n",
       "        <th class=\"col_heading level0 col0\" >Mean</th> \n",
       "        <th class=\"col_heading level0 col1\" >Median</th> \n",
       "        <th class=\"col_heading level0 col2\" >Min</th> \n",
       "        <th class=\"col_heading level0 col3\" >Max</th> \n",
       "        <th class=\"col_heading level0 col4\" >STD</th> \n",
       "        <th class=\"col_heading level0 col5\" >Specificity</th> \n",
       "        <th class=\"col_heading level0 col6\" >Sensibility</th> \n",
       "    </tr></thead> \n",
       "<tbody>    <tr> \n",
       "        <th id=\"T_30b6d5c0_f688_11e8_a3a5_6b077cae7462level0_row0\" class=\"row_heading level0 row0\" >knn_5</th> \n",
       "        <td id=\"T_30b6d5c0_f688_11e8_a3a5_6b077cae7462row0_col0\" class=\"data row0 col0\" >79.3%</td> \n",
       "        <td id=\"T_30b6d5c0_f688_11e8_a3a5_6b077cae7462row0_col1\" class=\"data row0 col1\" >79.3%</td> \n",
       "        <td id=\"T_30b6d5c0_f688_11e8_a3a5_6b077cae7462row0_col2\" class=\"data row0 col2\" >78.3%</td> \n",
       "        <td id=\"T_30b6d5c0_f688_11e8_a3a5_6b077cae7462row0_col3\" class=\"data row0 col3\" >80.3%</td> \n",
       "        <td id=\"T_30b6d5c0_f688_11e8_a3a5_6b077cae7462row0_col4\" class=\"data row0 col4\" >0.0045</td> \n",
       "        <td id=\"T_30b6d5c0_f688_11e8_a3a5_6b077cae7462row0_col5\" class=\"data row0 col5\" >91.9%</td> \n",
       "        <td id=\"T_30b6d5c0_f688_11e8_a3a5_6b077cae7462row0_col6\" class=\"data row0 col6\" >34.9%</td> \n",
       "    </tr>    <tr> \n",
       "        <th id=\"T_30b6d5c0_f688_11e8_a3a5_6b077cae7462level0_row1\" class=\"row_heading level0 row1\" >nn</th> \n",
       "        <td id=\"T_30b6d5c0_f688_11e8_a3a5_6b077cae7462row1_col0\" class=\"data row1 col0\" >72.8%</td> \n",
       "        <td id=\"T_30b6d5c0_f688_11e8_a3a5_6b077cae7462row1_col1\" class=\"data row1 col1\" >72.8%</td> \n",
       "        <td id=\"T_30b6d5c0_f688_11e8_a3a5_6b077cae7462row1_col2\" class=\"data row1 col2\" >71.7%</td> \n",
       "        <td id=\"T_30b6d5c0_f688_11e8_a3a5_6b077cae7462row1_col3\" class=\"data row1 col3\" >74.2%</td> \n",
       "        <td id=\"T_30b6d5c0_f688_11e8_a3a5_6b077cae7462row1_col4\" class=\"data row1 col4\" >0.0051</td> \n",
       "        <td id=\"T_30b6d5c0_f688_11e8_a3a5_6b077cae7462row1_col5\" class=\"data row1 col5\" >82.5%</td> \n",
       "        <td id=\"T_30b6d5c0_f688_11e8_a3a5_6b077cae7462row1_col6\" class=\"data row1 col6\" >38.6%</td> \n",
       "    </tr>    <tr> \n",
       "        <th id=\"T_30b6d5c0_f688_11e8_a3a5_6b077cae7462level0_row2\" class=\"row_heading level0 row2\" >dmc</th> \n",
       "        <td id=\"T_30b6d5c0_f688_11e8_a3a5_6b077cae7462row2_col0\" class=\"data row2 col0\" >65.8%</td> \n",
       "        <td id=\"T_30b6d5c0_f688_11e8_a3a5_6b077cae7462row2_col1\" class=\"data row2 col1\" >65.9%</td> \n",
       "        <td id=\"T_30b6d5c0_f688_11e8_a3a5_6b077cae7462row2_col2\" class=\"data row2 col2\" >64.3%</td> \n",
       "        <td id=\"T_30b6d5c0_f688_11e8_a3a5_6b077cae7462row2_col3\" class=\"data row2 col3\" >67.7%</td> \n",
       "        <td id=\"T_30b6d5c0_f688_11e8_a3a5_6b077cae7462row2_col4\" class=\"data row2 col4\" >0.0062</td> \n",
       "        <td id=\"T_30b6d5c0_f688_11e8_a3a5_6b077cae7462row2_col5\" class=\"data row2 col5\" >66.6%</td> \n",
       "        <td id=\"T_30b6d5c0_f688_11e8_a3a5_6b077cae7462row2_col6\" class=\"data row2 col6\" >63.2%</td> \n",
       "    </tr>    <tr> \n",
       "        <th id=\"T_30b6d5c0_f688_11e8_a3a5_6b077cae7462level0_row3\" class=\"row_heading level0 row3\" >cqg</th> \n",
       "        <td id=\"T_30b6d5c0_f688_11e8_a3a5_6b077cae7462row3_col0\" class=\"data row3 col0\" >81.2%</td> \n",
       "        <td id=\"T_30b6d5c0_f688_11e8_a3a5_6b077cae7462row3_col1\" class=\"data row3 col1\" >81.1%</td> \n",
       "        <td id=\"T_30b6d5c0_f688_11e8_a3a5_6b077cae7462row3_col2\" class=\"data row3 col2\" >80.2%</td> \n",
       "        <td id=\"T_30b6d5c0_f688_11e8_a3a5_6b077cae7462row3_col3\" class=\"data row3 col3\" >82.1%</td> \n",
       "        <td id=\"T_30b6d5c0_f688_11e8_a3a5_6b077cae7462row3_col4\" class=\"data row3 col4\" >0.0049</td> \n",
       "        <td id=\"T_30b6d5c0_f688_11e8_a3a5_6b077cae7462row3_col5\" class=\"data row3 col5\" >96.9%</td> \n",
       "        <td id=\"T_30b6d5c0_f688_11e8_a3a5_6b077cae7462row3_col6\" class=\"data row3 col6\" >25.7%</td> \n",
       "    </tr>    <tr> \n",
       "        <th id=\"T_30b6d5c0_f688_11e8_a3a5_6b077cae7462level0_row4\" class=\"row_heading level0 row4\" >gnb</th> \n",
       "        <td id=\"T_30b6d5c0_f688_11e8_a3a5_6b077cae7462row4_col0\" class=\"data row4 col0\" >70.1%</td> \n",
       "        <td id=\"T_30b6d5c0_f688_11e8_a3a5_6b077cae7462row4_col1\" class=\"data row4 col1\" >71.5%</td> \n",
       "        <td id=\"T_30b6d5c0_f688_11e8_a3a5_6b077cae7462row4_col2\" class=\"data row4 col2\" >55.8%</td> \n",
       "        <td id=\"T_30b6d5c0_f688_11e8_a3a5_6b077cae7462row4_col3\" class=\"data row4 col3\" >77.0%</td> \n",
       "        <td id=\"T_30b6d5c0_f688_11e8_a3a5_6b077cae7462row4_col4\" class=\"data row4 col4\" >0.046</td> \n",
       "        <td id=\"T_30b6d5c0_f688_11e8_a3a5_6b077cae7462row4_col5\" class=\"data row4 col5\" >71.4%</td> \n",
       "        <td id=\"T_30b6d5c0_f688_11e8_a3a5_6b077cae7462row4_col6\" class=\"data row4 col6\" >65.5%</td> \n",
       "    </tr>    <tr> \n",
       "        <th id=\"T_30b6d5c0_f688_11e8_a3a5_6b077cae7462level0_row5\" class=\"row_heading level0 row5\" >knn_5_red</th> \n",
       "        <td id=\"T_30b6d5c0_f688_11e8_a3a5_6b077cae7462row5_col0\" class=\"data row5 col0\" >77.0%</td> \n",
       "        <td id=\"T_30b6d5c0_f688_11e8_a3a5_6b077cae7462row5_col1\" class=\"data row5 col1\" >77.5%</td> \n",
       "        <td id=\"T_30b6d5c0_f688_11e8_a3a5_6b077cae7462row5_col2\" class=\"data row5 col2\" >63.7%</td> \n",
       "        <td id=\"T_30b6d5c0_f688_11e8_a3a5_6b077cae7462row5_col3\" class=\"data row5 col3\" >86.2%</td> \n",
       "        <td id=\"T_30b6d5c0_f688_11e8_a3a5_6b077cae7462row5_col4\" class=\"data row5 col4\" >0.046</td> \n",
       "        <td id=\"T_30b6d5c0_f688_11e8_a3a5_6b077cae7462row5_col5\" class=\"data row5 col5\" >96.6%</td> \n",
       "        <td id=\"T_30b6d5c0_f688_11e8_a3a5_6b077cae7462row5_col6\" class=\"data row5 col6\" >57.4%</td> \n",
       "    </tr>    <tr> \n",
       "        <th id=\"T_30b6d5c0_f688_11e8_a3a5_6b077cae7462level0_row6\" class=\"row_heading level0 row6\" >nn_red</th> \n",
       "        <td id=\"T_30b6d5c0_f688_11e8_a3a5_6b077cae7462row6_col0\" class=\"data row6 col0\" >78.6%</td> \n",
       "        <td id=\"T_30b6d5c0_f688_11e8_a3a5_6b077cae7462row6_col1\" class=\"data row6 col1\" >78.8%</td> \n",
       "        <td id=\"T_30b6d5c0_f688_11e8_a3a5_6b077cae7462row6_col2\" class=\"data row6 col2\" >68.8%</td> \n",
       "        <td id=\"T_30b6d5c0_f688_11e8_a3a5_6b077cae7462row6_col3\" class=\"data row6 col3\" >87.5%</td> \n",
       "        <td id=\"T_30b6d5c0_f688_11e8_a3a5_6b077cae7462row6_col4\" class=\"data row6 col4\" >0.047</td> \n",
       "        <td id=\"T_30b6d5c0_f688_11e8_a3a5_6b077cae7462row6_col5\" class=\"data row6 col5\" >93.6%</td> \n",
       "        <td id=\"T_30b6d5c0_f688_11e8_a3a5_6b077cae7462row6_col6\" class=\"data row6 col6\" >64.0%</td> \n",
       "    </tr>    <tr> \n",
       "        <th id=\"T_30b6d5c0_f688_11e8_a3a5_6b077cae7462level0_row7\" class=\"row_heading level0 row7\" >dmc_red</th> \n",
       "        <td id=\"T_30b6d5c0_f688_11e8_a3a5_6b077cae7462row7_col0\" class=\"data row7 col0\" >64.1%</td> \n",
       "        <td id=\"T_30b6d5c0_f688_11e8_a3a5_6b077cae7462row7_col1\" class=\"data row7 col1\" >64.4%</td> \n",
       "        <td id=\"T_30b6d5c0_f688_11e8_a3a5_6b077cae7462row7_col2\" class=\"data row7 col2\" >53.8%</td> \n",
       "        <td id=\"T_30b6d5c0_f688_11e8_a3a5_6b077cae7462row7_col3\" class=\"data row7 col3\" >73.8%</td> \n",
       "        <td id=\"T_30b6d5c0_f688_11e8_a3a5_6b077cae7462row7_col4\" class=\"data row7 col4\" >0.047</td> \n",
       "        <td id=\"T_30b6d5c0_f688_11e8_a3a5_6b077cae7462row7_col5\" class=\"data row7 col5\" >62.7%</td> \n",
       "        <td id=\"T_30b6d5c0_f688_11e8_a3a5_6b077cae7462row7_col6\" class=\"data row7 col6\" >65.5%</td> \n",
       "    </tr>    <tr> \n",
       "        <th id=\"T_30b6d5c0_f688_11e8_a3a5_6b077cae7462level0_row8\" class=\"row_heading level0 row8\" >cqg_red</th> \n",
       "        <td id=\"T_30b6d5c0_f688_11e8_a3a5_6b077cae7462row8_col0\" class=\"data row8 col0\" >87.1%</td> \n",
       "        <td id=\"T_30b6d5c0_f688_11e8_a3a5_6b077cae7462row8_col1\" class=\"data row8 col1\" >87.5%</td> \n",
       "        <td id=\"T_30b6d5c0_f688_11e8_a3a5_6b077cae7462row8_col2\" class=\"data row8 col2\" >78.8%</td> \n",
       "        <td id=\"T_30b6d5c0_f688_11e8_a3a5_6b077cae7462row8_col3\" class=\"data row8 col3\" >96.2%</td> \n",
       "        <td id=\"T_30b6d5c0_f688_11e8_a3a5_6b077cae7462row8_col4\" class=\"data row8 col4\" >0.039</td> \n",
       "        <td id=\"T_30b6d5c0_f688_11e8_a3a5_6b077cae7462row8_col5\" class=\"data row8 col5\" >85.3%</td> \n",
       "        <td id=\"T_30b6d5c0_f688_11e8_a3a5_6b077cae7462row8_col6\" class=\"data row8 col6\" >89.0%</td> \n",
       "    </tr>    <tr> \n",
       "        <th id=\"T_30b6d5c0_f688_11e8_a3a5_6b077cae7462level0_row9\" class=\"row_heading level0 row9\" >gnb_red</th> \n",
       "        <td id=\"T_30b6d5c0_f688_11e8_a3a5_6b077cae7462row9_col0\" class=\"data row9 col0\" >83.4%</td> \n",
       "        <td id=\"T_30b6d5c0_f688_11e8_a3a5_6b077cae7462row9_col1\" class=\"data row9 col1\" >83.8%</td> \n",
       "        <td id=\"T_30b6d5c0_f688_11e8_a3a5_6b077cae7462row9_col2\" class=\"data row9 col2\" >68.8%</td> \n",
       "        <td id=\"T_30b6d5c0_f688_11e8_a3a5_6b077cae7462row9_col3\" class=\"data row9 col3\" >95.0%</td> \n",
       "        <td id=\"T_30b6d5c0_f688_11e8_a3a5_6b077cae7462row9_col4\" class=\"data row9 col4\" >0.051</td> \n",
       "        <td id=\"T_30b6d5c0_f688_11e8_a3a5_6b077cae7462row9_col5\" class=\"data row9 col5\" >82.8%</td> \n",
       "        <td id=\"T_30b6d5c0_f688_11e8_a3a5_6b077cae7462row9_col6\" class=\"data row9 col6\" >84.0%</td> \n",
       "    </tr></tbody> \n",
       "</table> "
      ],
      "text/plain": [
       "<pandas.io.formats.style.Styler at 0x7f6a4b759400>"
      ]
     },
     "execution_count": 353,
     "metadata": {},
     "output_type": "execute_result"
    }
   ],
   "source": [
    "from IPython.display import display, HTML\n",
    "import numpy as np\n",
    "import pandas as pd\n",
    "import seaborn as sns\n",
    "pd.set_option(\"display.precision\", 2)\n",
    "\n",
    "keys = ['knn_5', 'nn', 'dmc', 'cqg', 'gnb', 'knn_5_red', 'nn_red', 'dmc_red', 'cqg_red', 'gnb_red']\n",
    "ordered_stats = {k: all_statistics[k] for k in keys}\n",
    "\n",
    "cols = ['Mean', 'Median', 'Min', 'Max', 'STD', 'Specificity', 'Sensibility']\n",
    "\n",
    "df = pd.DataFrame.from_dict(ordered_stats, orient='index', columns=cols)\n",
    "\n",
    "th_props = [('font-size', '14px'),('text-align', 'center'),\n",
    "            ('font-weight', 'bold'),('color', '#6d6d6d'),('background-color', '#DDD')]\n",
    "\n",
    "# Set CSS properties for td elements in dataframe\n",
    "td_props = [('font-size', '14px'),('text-align', 'center')]\n",
    "\n",
    "# Set table styles\n",
    "styles = [dict(selector=\"th\", props=th_props), dict(selector=\"td\", props=td_props)]\n",
    "\n",
    "df.style.format({k:\"{:.1%}\" for k in cols if k != 'STD'}).set_table_styles(styles)"
   ]
  },
  {
   "cell_type": "markdown",
   "metadata": {},
   "source": [
    "# 5. Conclusão\n",
    "\n",
    "Podemos ver que a técnica de redução do dataset por prototipação, não só acelera o treinamento e predição dos modelos em ordens de magnitude, quanto podem até melhorar a acurácia desses modelos, provavelmente por diminuir a quantidade de outliers e reduzir o viés causado pelo conjunto de treino, além do balanceamento das classes que pode ter um grande impacto no treinamento do modelo.\n",
    "\n",
    "Link do github: https://github.com/ericklt/pattern-recognition"
   ]
  }
 ],
 "metadata": {
  "kernelspec": {
   "display_name": "Python 3",
   "language": "python",
   "name": "python3"
  },
  "language_info": {
   "codemirror_mode": {
    "name": "ipython",
    "version": 3
   },
   "file_extension": ".py",
   "mimetype": "text/x-python",
   "name": "python",
   "nbconvert_exporter": "python",
   "pygments_lexer": "ipython3",
   "version": "3.7.0"
  }
 },
 "nbformat": 4,
 "nbformat_minor": 2
}
