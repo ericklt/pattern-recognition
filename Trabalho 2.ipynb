{
 "cells": [
  {
   "cell_type": "code",
   "execution_count": 1,
   "metadata": {},
   "outputs": [],
   "source": [
    "from sklearn.cluster import MiniBatchKMeans\n",
    "import datasets\n",
    "import utils\n",
    "import tester\n",
    "import models\n",
    "import numpy as np\n",
    "from scipy import spatial"
   ]
  },
  {
   "cell_type": "code",
   "execution_count": 43,
   "metadata": {},
   "outputs": [],
   "source": [
    "def calculateSSD(model, X):\n",
    "    cluster_sum = {i:0 for i in range(model.n_clusters)}\n",
    "    for i, x in enumerate(X):\n",
    "        label = model.labels_[i]\n",
    "        cluster_sum[label] += utils.distance(x, model.cluster_centers_[label])**2\n",
    "\n",
    "    return sum(cluster_sum.values())\n",
    "\n",
    "def createKmeans(data, n_clusters):\n",
    "    model_list = [MiniBatchKMeans(n_clusters=n_clusters, init_size=n_clusters*3) for _ in data.cd]\n",
    "    for y in data.cd:\n",
    "        model_list[y].fit(data.cd[y])\n",
    "        \n",
    "    ssd = sum([calculateSSD(model_list[y], data.cd[y]) for y in data.cd])\n",
    "    return model_list, ssd"
   ]
  },
  {
   "cell_type": "code",
   "execution_count": 44,
   "metadata": {},
   "outputs": [],
   "source": [
    "data = datasets.credit_cards(normalized=True)\n",
    "\n",
    "x = [createKmeans(data, 1000) for _ in range(10)]\n",
    "\n",
    "model_list = min(x, key=lambda k : k[1])[0]"
   ]
  },
  {
   "cell_type": "code",
   "execution_count": 4,
   "metadata": {},
   "outputs": [],
   "source": [
    "X = []\n",
    "Y = []\n",
    "for y in sorted(data.cd):\n",
    "    X.extend(model_list[y].cluster_centers_)\n",
    "    Y.extend([y] * len(model_list[y].cluster_centers_))\n",
    "\n",
    "custom_dataset = datasets.Dataset(np.array(X), np.array(Y), normalized=True)"
   ]
  },
  {
   "cell_type": "code",
   "execution_count": 35,
   "metadata": {},
   "outputs": [],
   "source": [
    "model_tester = tester.Tester(custom_dataset, models.KNN(13))\n",
    "model_tester.test(transform=utils.LDA())"
   ]
  },
  {
   "cell_type": "code",
   "execution_count": 36,
   "metadata": {},
   "outputs": [
    {
     "name": "stdout",
     "output_type": "stream",
     "text": [
      "Confusion Matrix:\n"
     ]
    },
    {
     "data": {
      "text/html": [
       "<div>\n",
       "<style scoped>\n",
       "    .dataframe tbody tr th:only-of-type {\n",
       "        vertical-align: middle;\n",
       "    }\n",
       "\n",
       "    .dataframe tbody tr th {\n",
       "        vertical-align: top;\n",
       "    }\n",
       "\n",
       "    .dataframe thead th {\n",
       "        text-align: right;\n",
       "    }\n",
       "</style>\n",
       "<table border=\"1\" class=\"dataframe\">\n",
       "  <thead>\n",
       "    <tr style=\"text-align: right;\">\n",
       "      <th></th>\n",
       "      <th>0</th>\n",
       "      <th>1</th>\n",
       "    </tr>\n",
       "  </thead>\n",
       "  <tbody>\n",
       "    <tr>\n",
       "      <th>0</th>\n",
       "      <td>13972.0</td>\n",
       "      <td>6028.0</td>\n",
       "    </tr>\n",
       "    <tr>\n",
       "      <th>1</th>\n",
       "      <td>8137.0</td>\n",
       "      <td>11863.0</td>\n",
       "    </tr>\n",
       "  </tbody>\n",
       "</table>\n",
       "</div>"
      ],
      "text/plain": [
       "         0        1\n",
       "0  13972.0   6028.0\n",
       "1   8137.0  11863.0"
      ]
     },
     "metadata": {},
     "output_type": "display_data"
    },
    {
     "name": "stdout",
     "output_type": "stream",
     "text": [
      "Test Accuracy:\n"
     ]
    },
    {
     "data": {
      "text/html": [
       "<table border=\"1\" class=\"dataframe\">\n",
       "  <thead>\n",
       "    <tr style=\"text-align: right;\">\n",
       "      <th>Mean</th>\n",
       "      <th>Median</th>\n",
       "      <th>Min</th>\n",
       "      <th>Max</th>\n",
       "      <th>STD</th>\n",
       "      <th>Specificity</th>\n",
       "      <th>Sensibility</th>\n",
       "    </tr>\n",
       "  </thead>\n",
       "  <tbody>\n",
       "    <tr>\n",
       "      <td>0.645875</td>\n",
       "      <td>0.64625</td>\n",
       "      <td>0.5825</td>\n",
       "      <td>0.7125</td>\n",
       "      <td>0.022966</td>\n",
       "      <td>0.63196</td>\n",
       "      <td>0.663071</td>\n",
       "    </tr>\n",
       "  </tbody>\n",
       "</table>"
      ],
      "text/plain": [
       "<IPython.core.display.HTML object>"
      ]
     },
     "metadata": {},
     "output_type": "display_data"
    }
   ],
   "source": [
    "statistics = model_tester.statistics()\n",
    "statistics.print_all()"
   ]
  }
 ],
 "metadata": {
  "kernelspec": {
   "display_name": "Python 3",
   "language": "python",
   "name": "python3"
  },
  "language_info": {
   "codemirror_mode": {
    "name": "ipython",
    "version": 3
   },
   "file_extension": ".py",
   "mimetype": "text/x-python",
   "name": "python",
   "nbconvert_exporter": "python",
   "pygments_lexer": "ipython3",
   "version": "3.7.0"
  }
 },
 "nbformat": 4,
 "nbformat_minor": 2
}
