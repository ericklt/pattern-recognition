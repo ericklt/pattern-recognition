{
 "cells": [
  {
   "cell_type": "markdown",
   "metadata": {},
   "source": [
    "<h1 style=\"text-align: center;\">Reconhecimento de Padrões - T3</h1>\n",
    "<h2 style=\"text-align: center;\">Erick Lima Trentini</h2>"
   ]
  },
  {
   "cell_type": "markdown",
   "metadata": {},
   "source": [
    "# 1. Introdução\n",
    "\n",
    "Neste trabalho iremos utilizar algumas métricas de qualidade de clusters, onde o algoritmo k-means será utilizado em um dataset sem labels, e as métricas serão utilizadas para escolhermos o K que melhor representa a separação dos dados. Além disso, os clusters criados pelo melhor K serão analizados."
   ]
  },
  {
   "cell_type": "code",
   "execution_count": 60,
   "metadata": {},
   "outputs": [],
   "source": [
    "from sklearn.cluster import MiniBatchKMeans\n",
    "import datasets\n",
    "import utils\n",
    "import tester\n",
    "import models\n",
    "import numpy as np\n",
    "import matplotlib.pyplot as plt\n",
    "import progressbar\n",
    "%matplotlib inline\n",
    "\n",
    "np.set_printoptions(formatter={'float': lambda x: \"{0:0.3f}\".format(x)})"
   ]
  },
  {
   "cell_type": "markdown",
   "metadata": {},
   "source": [
    "# 2. Dataset\n",
    "\n",
    "O dataset deste trabalho possui 1701 linhas de dados e 6 atributos.\n",
    "\n",
    "Por esse motivo, não é um dataset tão grande e permite rodar os algoritmos de forma rápida, com exceção do índice de DUNN, que por fazer muitas comparações acaba sendo custoso."
   ]
  },
  {
   "cell_type": "code",
   "execution_count": 13,
   "metadata": {},
   "outputs": [
    {
     "name": "stdout",
     "output_type": "stream",
     "text": [
      "(1701, 6)\n",
      "\n",
      "[[100.000 2.000 477.750 3.464 3.464 10.000]\n",
      " [50.000 4.250 975.497 1.477 1.597 10001.000]\n",
      " [100.000 3.214 3747.114 1.023 0.985 15577.000]\n",
      " ...\n",
      " [100.000 2.000 466.714 2.335 2.663 9928003.000]\n",
      " [100.000 2.000 130.290 3.464 3.464 9950030.000]\n",
      " [100.000 2.000 114.828 3.464 3.464 9995020.000]]\n"
     ]
    }
   ],
   "source": [
    "data = np.loadtxt('data/datasetTC3.dat')\n",
    "print(data.shape)\n",
    "print()\n",
    "print(data)"
   ]
  },
  {
   "cell_type": "markdown",
   "metadata": {},
   "source": [
    "## 2.1. Visualização dos dados\n",
    "\n",
    "Para a visualização dos dados, como de costume, será utilizado o PCA para a projeção dos dados."
   ]
  },
  {
   "cell_type": "code",
   "execution_count": 22,
   "metadata": {},
   "outputs": [
    {
     "data": {
      "image/png": "[encoded data removed]",
      "text/plain": [
       "<Figure size 432x288 with 1 Axes>"
      ]
     },
     "metadata": {
      "needs_background": "light"
     },
     "output_type": "display_data"
    }
   ],
   "source": [
    "pca = utils.PCA()\n",
    "pca.fit(data)\n",
    "pca_data = pca.transform(data, min_var=1)\n",
    "plt.scatter(pca_data[:, 0], pca_data[:, 1])\n",
    "plt.show()"
   ]
  },
  {
   "cell_type": "markdown",
   "metadata": {},
   "source": [
    "Podemos perceber apenas olhando para a separação dos dados que eles se apresentam em 2 ou 3 clusters, sendo 1 mais separado dos outros. Como estamos olhando apenas para uma projeção dos dados, é possível que não estejamos vendo outras separações no espaço. Para isso, utilizaremos os índices de qualidade dos clusters e veremos o resultado da separação mais a frente.\n",
    "\n",
    "# 3. Índices de Qualidade dos Clusters\n",
    "\n",
    "Para melhorar a velocidade das aplicações dos índices, foi construída uma matriz esparsa que calcula as distâncias entre os elementos sob demanda."
   ]
  },
  {
   "cell_type": "code",
   "execution_count": 29,
   "metadata": {},
   "outputs": [],
   "source": [
    "class SparseDistanceMatrix:\n",
    "    def __init__(self, X):\n",
    "        self.X = X\n",
    "        self.matrix = {}\n",
    "        \n",
    "    def get(self, i, j):\n",
    "        if i == j:\n",
    "            return 0.\n",
    "        if i > j:\n",
    "            i, j = j, i\n",
    "        if (i, j) not in self.matrix:\n",
    "            self.matrix[(i, j)] = utils.distance(self.X[i], self.X[j])\n",
    "        return self.matrix[(i, j)]\n",
    "    \n",
    "SDM = SparseDistanceMatrix(data)"
   ]
  },
  {
   "cell_type": "markdown",
   "metadata": {},
   "source": [
    "## 3.1. Índice de Dunn\n",
    "\n",
    "Este índice é o mais demorado de todos, já que é necessário o cálculo de distância entre todas as combinações de elementos dentro de um cluster, elementos entre 2 clusters em cada combinação de 2 clusters."
   ]
  },
  {
   "cell_type": "code",
   "execution_count": 40,
   "metadata": {},
   "outputs": [],
   "source": [
    "def inter_cluster_distance(SDM, c1, c2):\n",
    "    return min(SDM.get(x1, x2) for x1 in c1 for x2 in c2)\n",
    "\n",
    "def cluster_diameter(SDM, c):\n",
    "    return max(SDM.get(c[i], c[j]) for i in range(len(c)) for j in range(i+1, len(c)))\n",
    "\n",
    "def dunn_index(SDM, model, X):\n",
    "    clusters = [[] for _ in range(model.n_clusters)]\n",
    "    for i in range(len(X)):\n",
    "        clusters[model.labels_[i]].append(i)\n",
    "        \n",
    "    num = min(inter_cluster_distance(SDM, clusters[i], clusters[j]) for i in range(model.n_clusters) for j in range(i+1, model.n_clusters))\n",
    "    den = max(cluster_diameter(SDM, c) for c in clusters)\n",
    "    return num / den"
   ]
  },
  {
   "cell_type": "markdown",
   "metadata": {},
   "source": [
    "## 3.2. Índice DB (Davies - Bouldin)"
   ]
  },
  {
   "cell_type": "code",
   "execution_count": 24,
   "metadata": {},
   "outputs": [],
   "source": [
    "def d(model, i, j):\n",
    "    return utils.distance(model.cluster_centers_[i], model.cluster_centers_[j])\n",
    "\n",
    "def S(model, X, i):\n",
    "    m = model.cluster_centers_[i]\n",
    "    q = 2\n",
    "    cluster = [x for k, x in enumerate(X) if model.labels_[k] == i]\n",
    "    return (sum(utils.distance(x, m)**q for x in cluster) / len(cluster))**(1/q)\n",
    "\n",
    "def R(model, X, i):\n",
    "    return max((S(model, X, i) + S(model, X, j)) / d(model, i, j) for j in range(model.n_clusters) if j != i)\n",
    "\n",
    "def db_index(model, X):\n",
    "    return sum(R(model, X, i) for i in range(model.n_clusters)) / model.n_clusters"
   ]
  },
  {
   "cell_type": "markdown",
   "metadata": {},
   "source": [
    "## 3.3. Índice CH (Calinski - Harabasz)"
   ]
  },
  {
   "cell_type": "code",
   "execution_count": 25,
   "metadata": {},
   "outputs": [],
   "source": [
    "def Bk(clusters, X):\n",
    "    x_mean = np.mean(X, axis=0)\n",
    "    norm_prototypes = np.array([np.mean(c, axis=0) - x_mean for c in clusters])\n",
    "    return np.sum([len(c) * np.outer(w, w) for c, w in zip(clusters, norm_prototypes)], axis=0)\n",
    "\n",
    "def Wk(clusters, X):\n",
    "    Ws = np.array([np.mean(c, axis=0) for c in clusters])\n",
    "    return np.sum([np.sum([np.outer(x - w, x - w) for x in c], axis=0) for c, w in zip(clusters, Ws)], axis=0)\n",
    "\n",
    "def ch_index(model, X):\n",
    "    clusters = [[] for _ in range(model.n_clusters)]\n",
    "    for i, x in enumerate(X):\n",
    "        clusters[model.labels_[i]].append(x)\n",
    "    return (Bk(clusters, X).trace() / (model.n_clusters - 1)) / (Wk(clusters, X).trace() / (len(X) - model.n_clusters))\n",
    "        "
   ]
  },
  {
   "cell_type": "markdown",
   "metadata": {},
   "source": [
    "## 3.4. Silhouette"
   ]
  },
  {
   "cell_type": "code",
   "execution_count": 53,
   "metadata": {},
   "outputs": [],
   "source": [
    "def A(SDM, i, his_cluster):\n",
    "    return np.mean([SDM.get(i, j) for j in his_cluster if j != i])\n",
    "    \n",
    "def B(SDM, i, his_cluster_number, all_clusters):\n",
    "    return min([np.mean([SDM.get(i, j) for j in all_clusters[k]]) for k in range(len(all_clusters)) if k != his_cluster_number])\n",
    "\n",
    "def Silhouette_S(SDM, i, his_cluster_number, all_clusters):\n",
    "    a_i = A(SDM, i, all_clusters[his_cluster_number])\n",
    "    b_i = B(SDM, i, his_cluster_number, all_clusters)\n",
    "    return (b_i - a_i) / max(a_i, b_i)\n",
    "\n",
    "def silhouette(SDM, model, X):\n",
    "    clusters = [[] for _ in range(model.n_clusters)]\n",
    "    for i in range(len(X)):\n",
    "        clusters[model.labels_[i]].append(i)\n",
    "        \n",
    "    all_s = [Silhouette_S(SDM, i, cluster_n, clusters) for cluster_n in range(len(clusters)) for i in clusters[cluster_n]]\n",
    "    \n",
    "    return np.mean(all_s)"
   ]
  },
  {
   "cell_type": "markdown",
   "metadata": {},
   "source": [
    "# 4. Descobrindo o Melhor K\n",
    "\n",
    "Para isso, testamos com valores de K variando entre 2 e 11. Todos os índices são calculados para cada K e no final seus valores serão plotados."
   ]
  },
  {
   "cell_type": "code",
   "execution_count": 54,
   "metadata": {},
   "outputs": [
    {
     "name": "stderr",
     "output_type": "stream",
     "text": [
      "100% (9 of 9) |##########################| Elapsed Time: 0:00:57 Time:  0:00:57\n"
     ]
    }
   ],
   "source": [
    "dunn_indexes = []\n",
    "db_indexes = []\n",
    "ch_indexes = []\n",
    "silhouettes = []\n",
    "\n",
    "models = [MiniBatchKMeans(n_clusters=k) for k in range(2, 11)]\n",
    "for m in models:\n",
    "    m.fit(data)\n",
    "\n",
    "with progressbar.ProgressBar(max_value=9) as bar:\n",
    "    for i, m in enumerate(models):\n",
    "        bar.update(i)\n",
    "        dunn_indexes.append(dunn_index(SDM, m, data))\n",
    "        db_indexes.append(db_index(m, data))\n",
    "        ch_indexes.append(ch_index(m, data))\n",
    "        silhouettes.append(silhouette(SDM, m, data))\n",
    "        "
   ]
  },
  {
   "cell_type": "markdown",
   "metadata": {},
   "source": [
    "## 4.1. Dunn (Maior é melhor)"
   ]
  },
  {
   "cell_type": "code",
   "execution_count": 55,
   "metadata": {
    "scrolled": true
   },
   "outputs": [
    {
     "data": {
      "image/png": "[encoded data removed]",
      "text/plain": [
       "<Figure size 432x288 with 1 Axes>"
      ]
     },
     "metadata": {
      "needs_background": "light"
     },
     "output_type": "display_data"
    }
   ],
   "source": [
    "plt.plot(range(2, 11), dunn_indexes)\n",
    "plt.show()"
   ]
  },
  {
   "cell_type": "markdown",
   "metadata": {},
   "source": [
    "## 4.2. DB (Menor é melhor)"
   ]
  },
  {
   "cell_type": "code",
   "execution_count": 56,
   "metadata": {
    "scrolled": true
   },
   "outputs": [
    {
     "data": {
      "image/png": "[encoded data removed]",
      "text/plain": [
       "<Figure size 432x288 with 1 Axes>"
      ]
     },
     "metadata": {
      "needs_background": "light"
     },
     "output_type": "display_data"
    }
   ],
   "source": [
    "plt.plot(range(2, 11), db_indexes)\n",
    "plt.show()"
   ]
  },
  {
   "cell_type": "markdown",
   "metadata": {},
   "source": [
    "## 4.3. CH (Menor é melhor)"
   ]
  },
  {
   "cell_type": "code",
   "execution_count": 57,
   "metadata": {
    "scrolled": true
   },
   "outputs": [
    {
     "data": {
      "image/png": "[encoded data removed]",
      "text/plain": [
       "<Figure size 432x288 with 1 Axes>"
      ]
     },
     "metadata": {
      "needs_background": "light"
     },
     "output_type": "display_data"
    }
   ],
   "source": [
    "plt.plot(range(2, 11), ch_indexes)\n",
    "plt.show()"
   ]
  },
  {
   "cell_type": "markdown",
   "metadata": {},
   "source": [
    "## 4.4. Silhouette (Maior é melhor)"
   ]
  },
  {
   "cell_type": "code",
   "execution_count": 58,
   "metadata": {
    "scrolled": true
   },
   "outputs": [
    {
     "data": {
      "image/png": "[encoded data removed]",
      "text/plain": [
       "<Figure size 432x288 with 1 Axes>"
      ]
     },
     "metadata": {
      "needs_background": "light"
     },
     "output_type": "display_data"
    }
   ],
   "source": [
    "plt.plot(range(2, 11), silhouettes)\n",
    "plt.show()"
   ]
  },
  {
   "cell_type": "markdown",
   "metadata": {},
   "source": [
    "Como podemos perceber, a quantidade de 2 clusters se mostra ideal em todos os casos. \n",
    "\n",
    "Com exceção do índice de Dunn, a quantidade de 3 clusters também não é uma má escolha. Isso se dá pois o índice de Dunn é muito sensível a clusters que tenham os elementos muito próximos uns dos outros, bem como se o cluster possuir outliers, já que é baseado em máximos e mínimos.\n",
    "\n",
    "Logo, K=2 parece uma escolha razoável para o número de clusters deste dataset.\n",
    "\n",
    "Logo, aqui está um plot dos dados clusterizados que nos mostra exatamente o que havíamos analizado na introdução."
   ]
  },
  {
   "cell_type": "code",
   "execution_count": 59,
   "metadata": {},
   "outputs": [
    {
     "data": {
      "image/png": "[encoded data removed]",
      "text/plain": [
       "<Figure size 432x288 with 1 Axes>"
      ]
     },
     "metadata": {
      "needs_background": "light"
     },
     "output_type": "display_data"
    }
   ],
   "source": [
    "pca = utils.PCA()\n",
    "pca.fit(data)\n",
    "pca_data = pca.transform(data, min_var=1)\n",
    "\n",
    "m = models[0]\n",
    "\n",
    "plt.scatter(pca_data[:, 0], pca_data[:, 1], c=m.labels_)\n",
    "plt.show()"
   ]
  },
  {
   "cell_type": "markdown",
   "metadata": {},
   "source": [
    "# 5. Análise dos Clusters"
   ]
  },
  {
   "cell_type": "code",
   "execution_count": 63,
   "metadata": {},
   "outputs": [],
   "source": [
    "clustered_data = {i : [] for i in range(m.n_clusters)}\n",
    "for i, x in enumerate(data):\n",
    "    clustered_data[m.labels_[i]].append(x)\n",
    "\n",
    "clustered_dataframes = [pd.DataFrame(clustered_data[i]) for i in clustered_data]"
   ]
  },
  {
   "cell_type": "code",
   "execution_count": 97,
   "metadata": {},
   "outputs": [
    {
     "name": "stdout",
     "output_type": "stream",
     "text": [
      "Cluster 0:\n",
      "Quantidade de dados: 811\n"
     ]
    },
    {
     "data": {
      "text/html": [
       "<style  type=\"text/css\" >\n",
       "    #T_e92dc1bc_f7bf_11e8_865d_e1a478df3cf6 th {\n",
       "          font-size: 14px;\n",
       "          text-align: center;\n",
       "          font-weight: bold;\n",
       "          color: #6d6d6d;\n",
       "          background-color: #CCC;\n",
       "    }    #T_e92dc1bc_f7bf_11e8_865d_e1a478df3cf6 td {\n",
       "          font-size: 14px;\n",
       "          text-align: center;\n",
       "    }</style>  \n",
       "<table id=\"T_e92dc1bc_f7bf_11e8_865d_e1a478df3cf6\" > \n",
       "<thead>    <tr> \n",
       "        <th class=\"blank level0\" ></th> \n",
       "        <th class=\"col_heading level0 col0\" >mean</th> \n",
       "        <th class=\"col_heading level0 col1\" >std</th> \n",
       "        <th class=\"col_heading level0 col2\" >min</th> \n",
       "        <th class=\"col_heading level0 col3\" >25%</th> \n",
       "        <th class=\"col_heading level0 col4\" >50%</th> \n",
       "        <th class=\"col_heading level0 col5\" >75%</th> \n",
       "        <th class=\"col_heading level0 col6\" >max</th> \n",
       "    </tr></thead> \n",
       "<tbody>    <tr> \n",
       "        <th id=\"T_e92dc1bc_f7bf_11e8_865d_e1a478df3cf6level0_row0\" class=\"row_heading level0 row0\" >0</th> \n",
       "        <td id=\"T_e92dc1bc_f7bf_11e8_865d_e1a478df3cf6row0_col0\" class=\"data row0 col0\" >98.62</td> \n",
       "        <td id=\"T_e92dc1bc_f7bf_11e8_865d_e1a478df3cf6row0_col1\" class=\"data row0 col1\" >7.918</td> \n",
       "        <td id=\"T_e92dc1bc_f7bf_11e8_865d_e1a478df3cf6row0_col2\" class=\"data row0 col2\" >0</td> \n",
       "        <td id=\"T_e92dc1bc_f7bf_11e8_865d_e1a478df3cf6row0_col3\" class=\"data row0 col3\" >100</td> \n",
       "        <td id=\"T_e92dc1bc_f7bf_11e8_865d_e1a478df3cf6row0_col4\" class=\"data row0 col4\" >100</td> \n",
       "        <td id=\"T_e92dc1bc_f7bf_11e8_865d_e1a478df3cf6row0_col5\" class=\"data row0 col5\" >100</td> \n",
       "        <td id=\"T_e92dc1bc_f7bf_11e8_865d_e1a478df3cf6row0_col6\" class=\"data row0 col6\" >100</td> \n",
       "    </tr>    <tr> \n",
       "        <th id=\"T_e92dc1bc_f7bf_11e8_865d_e1a478df3cf6level0_row1\" class=\"row_heading level0 row1\" >1</th> \n",
       "        <td id=\"T_e92dc1bc_f7bf_11e8_865d_e1a478df3cf6row1_col0\" class=\"data row1 col0\" >4.326</td> \n",
       "        <td id=\"T_e92dc1bc_f7bf_11e8_865d_e1a478df3cf6row1_col1\" class=\"data row1 col1\" >4.496</td> \n",
       "        <td id=\"T_e92dc1bc_f7bf_11e8_865d_e1a478df3cf6row1_col2\" class=\"data row1 col2\" >0</td> \n",
       "        <td id=\"T_e92dc1bc_f7bf_11e8_865d_e1a478df3cf6row1_col3\" class=\"data row1 col3\" >2</td> \n",
       "        <td id=\"T_e92dc1bc_f7bf_11e8_865d_e1a478df3cf6row1_col4\" class=\"data row1 col4\" >3.167</td> \n",
       "        <td id=\"T_e92dc1bc_f7bf_11e8_865d_e1a478df3cf6row1_col5\" class=\"data row1 col5\" >4.764</td> \n",
       "        <td id=\"T_e92dc1bc_f7bf_11e8_865d_e1a478df3cf6row1_col6\" class=\"data row1 col6\" >72.67</td> \n",
       "    </tr>    <tr> \n",
       "        <th id=\"T_e92dc1bc_f7bf_11e8_865d_e1a478df3cf6level0_row2\" class=\"row_heading level0 row2\" >2</th> \n",
       "        <td id=\"T_e92dc1bc_f7bf_11e8_865d_e1a478df3cf6row2_col0\" class=\"data row2 col0\" >1913</td> \n",
       "        <td id=\"T_e92dc1bc_f7bf_11e8_865d_e1a478df3cf6row2_col1\" class=\"data row2 col1\" >6594</td> \n",
       "        <td id=\"T_e92dc1bc_f7bf_11e8_865d_e1a478df3cf6row2_col2\" class=\"data row2 col2\" >38.22</td> \n",
       "        <td id=\"T_e92dc1bc_f7bf_11e8_865d_e1a478df3cf6row2_col3\" class=\"data row2 col3\" >109.3</td> \n",
       "        <td id=\"T_e92dc1bc_f7bf_11e8_865d_e1a478df3cf6row2_col4\" class=\"data row2 col4\" >342.2</td> \n",
       "        <td id=\"T_e92dc1bc_f7bf_11e8_865d_e1a478df3cf6row2_col5\" class=\"data row2 col5\" >1101</td> \n",
       "        <td id=\"T_e92dc1bc_f7bf_11e8_865d_e1a478df3cf6row2_col6\" class=\"data row2 col6\" >1.173e+05</td> \n",
       "    </tr>    <tr> \n",
       "        <th id=\"T_e92dc1bc_f7bf_11e8_865d_e1a478df3cf6level0_row3\" class=\"row_heading level0 row3\" >3</th> \n",
       "        <td id=\"T_e92dc1bc_f7bf_11e8_865d_e1a478df3cf6row3_col0\" class=\"data row3 col0\" >2.087</td> \n",
       "        <td id=\"T_e92dc1bc_f7bf_11e8_865d_e1a478df3cf6row3_col1\" class=\"data row3 col1\" >1.05</td> \n",
       "        <td id=\"T_e92dc1bc_f7bf_11e8_865d_e1a478df3cf6row3_col2\" class=\"data row3 col2\" >0.2081</td> \n",
       "        <td id=\"T_e92dc1bc_f7bf_11e8_865d_e1a478df3cf6row3_col3\" class=\"data row3 col3\" >1.175</td> \n",
       "        <td id=\"T_e92dc1bc_f7bf_11e8_865d_e1a478df3cf6row3_col4\" class=\"data row3 col4\" >1.809</td> \n",
       "        <td id=\"T_e92dc1bc_f7bf_11e8_865d_e1a478df3cf6row3_col5\" class=\"data row3 col5\" >3.464</td> \n",
       "        <td id=\"T_e92dc1bc_f7bf_11e8_865d_e1a478df3cf6row3_col6\" class=\"data row3 col6\" >3.464</td> \n",
       "    </tr>    <tr> \n",
       "        <th id=\"T_e92dc1bc_f7bf_11e8_865d_e1a478df3cf6level0_row4\" class=\"row_heading level0 row4\" >4</th> \n",
       "        <td id=\"T_e92dc1bc_f7bf_11e8_865d_e1a478df3cf6row4_col0\" class=\"data row4 col0\" >2.163</td> \n",
       "        <td id=\"T_e92dc1bc_f7bf_11e8_865d_e1a478df3cf6row4_col1\" class=\"data row4 col1\" >1.014</td> \n",
       "        <td id=\"T_e92dc1bc_f7bf_11e8_865d_e1a478df3cf6row4_col2\" class=\"data row4 col2\" >0.2711</td> \n",
       "        <td id=\"T_e92dc1bc_f7bf_11e8_865d_e1a478df3cf6row4_col3\" class=\"data row4 col3\" >1.287</td> \n",
       "        <td id=\"T_e92dc1bc_f7bf_11e8_865d_e1a478df3cf6row4_col4\" class=\"data row4 col4\" >2</td> \n",
       "        <td id=\"T_e92dc1bc_f7bf_11e8_865d_e1a478df3cf6row4_col5\" class=\"data row4 col5\" >3.464</td> \n",
       "        <td id=\"T_e92dc1bc_f7bf_11e8_865d_e1a478df3cf6row4_col6\" class=\"data row4 col6\" >3.464</td> \n",
       "    </tr>    <tr> \n",
       "        <th id=\"T_e92dc1bc_f7bf_11e8_865d_e1a478df3cf6level0_row5\" class=\"row_heading level0 row5\" >5</th> \n",
       "        <td id=\"T_e92dc1bc_f7bf_11e8_865d_e1a478df3cf6row5_col0\" class=\"data row5 col0\" >2.516e+05</td> \n",
       "        <td id=\"T_e92dc1bc_f7bf_11e8_865d_e1a478df3cf6row5_col1\" class=\"data row5 col1\" >2.753e+05</td> \n",
       "        <td id=\"T_e92dc1bc_f7bf_11e8_865d_e1a478df3cf6row5_col2\" class=\"data row5 col2\" >10</td> \n",
       "        <td id=\"T_e92dc1bc_f7bf_11e8_865d_e1a478df3cf6row5_col3\" class=\"data row5 col3\" >8.357e+04</td> \n",
       "        <td id=\"T_e92dc1bc_f7bf_11e8_865d_e1a478df3cf6row5_col4\" class=\"data row5 col4\" >1.351e+05</td> \n",
       "        <td id=\"T_e92dc1bc_f7bf_11e8_865d_e1a478df3cf6row5_col5\" class=\"data row5 col5\" >2.545e+05</td> \n",
       "        <td id=\"T_e92dc1bc_f7bf_11e8_865d_e1a478df3cf6row5_col6\" class=\"data row5 col6\" >9.762e+05</td> \n",
       "    </tr></tbody> \n",
       "</table> "
      ],
      "text/plain": [
       "<pandas.io.formats.style.Styler at 0x7fa90f000d30>"
      ]
     },
     "metadata": {},
     "output_type": "display_data"
    },
    {
     "name": "stdout",
     "output_type": "stream",
     "text": [
      "Cluster 1:\n",
      "Quantidade de dados: 890\n"
     ]
    },
    {
     "data": {
      "text/html": [
       "<style  type=\"text/css\" >\n",
       "    #T_e9375c22_f7bf_11e8_865d_e1a478df3cf6 th {\n",
       "          font-size: 14px;\n",
       "          text-align: center;\n",
       "          font-weight: bold;\n",
       "          color: #6d6d6d;\n",
       "          background-color: #CCC;\n",
       "    }    #T_e9375c22_f7bf_11e8_865d_e1a478df3cf6 td {\n",
       "          font-size: 14px;\n",
       "          text-align: center;\n",
       "    }</style>  \n",
       "<table id=\"T_e9375c22_f7bf_11e8_865d_e1a478df3cf6\" > \n",
       "<thead>    <tr> \n",
       "        <th class=\"blank level0\" ></th> \n",
       "        <th class=\"col_heading level0 col0\" >mean</th> \n",
       "        <th class=\"col_heading level0 col1\" >std</th> \n",
       "        <th class=\"col_heading level0 col2\" >min</th> \n",
       "        <th class=\"col_heading level0 col3\" >25%</th> \n",
       "        <th class=\"col_heading level0 col4\" >50%</th> \n",
       "        <th class=\"col_heading level0 col5\" >75%</th> \n",
       "        <th class=\"col_heading level0 col6\" >max</th> \n",
       "    </tr></thead> \n",
       "<tbody>    <tr> \n",
       "        <th id=\"T_e9375c22_f7bf_11e8_865d_e1a478df3cf6level0_row0\" class=\"row_heading level0 row0\" >0</th> \n",
       "        <td id=\"T_e9375c22_f7bf_11e8_865d_e1a478df3cf6row0_col0\" class=\"data row0 col0\" >99.62</td> \n",
       "        <td id=\"T_e9375c22_f7bf_11e8_865d_e1a478df3cf6row0_col1\" class=\"data row0 col1\" >3.02</td> \n",
       "        <td id=\"T_e9375c22_f7bf_11e8_865d_e1a478df3cf6row0_col2\" class=\"data row0 col2\" >50</td> \n",
       "        <td id=\"T_e9375c22_f7bf_11e8_865d_e1a478df3cf6row0_col3\" class=\"data row0 col3\" >100</td> \n",
       "        <td id=\"T_e9375c22_f7bf_11e8_865d_e1a478df3cf6row0_col4\" class=\"data row0 col4\" >100</td> \n",
       "        <td id=\"T_e9375c22_f7bf_11e8_865d_e1a478df3cf6row0_col5\" class=\"data row0 col5\" >100</td> \n",
       "        <td id=\"T_e9375c22_f7bf_11e8_865d_e1a478df3cf6row0_col6\" class=\"data row0 col6\" >100</td> \n",
       "    </tr>    <tr> \n",
       "        <th id=\"T_e9375c22_f7bf_11e8_865d_e1a478df3cf6level0_row1\" class=\"row_heading level0 row1\" >1</th> \n",
       "        <td id=\"T_e9375c22_f7bf_11e8_865d_e1a478df3cf6row1_col0\" class=\"data row1 col0\" >4.092</td> \n",
       "        <td id=\"T_e9375c22_f7bf_11e8_865d_e1a478df3cf6row1_col1\" class=\"data row1 col1\" >2.686</td> \n",
       "        <td id=\"T_e9375c22_f7bf_11e8_865d_e1a478df3cf6row1_col2\" class=\"data row1 col2\" >0</td> \n",
       "        <td id=\"T_e9375c22_f7bf_11e8_865d_e1a478df3cf6row1_col3\" class=\"data row1 col3\" >2.5</td> \n",
       "        <td id=\"T_e9375c22_f7bf_11e8_865d_e1a478df3cf6row1_col4\" class=\"data row1 col4\" >3.75</td> \n",
       "        <td id=\"T_e9375c22_f7bf_11e8_865d_e1a478df3cf6row1_col5\" class=\"data row1 col5\" >5</td> \n",
       "        <td id=\"T_e9375c22_f7bf_11e8_865d_e1a478df3cf6row1_col6\" class=\"data row1 col6\" >37</td> \n",
       "    </tr>    <tr> \n",
       "        <th id=\"T_e9375c22_f7bf_11e8_865d_e1a478df3cf6level0_row2\" class=\"row_heading level0 row2\" >2</th> \n",
       "        <td id=\"T_e9375c22_f7bf_11e8_865d_e1a478df3cf6row2_col0\" class=\"data row2 col0\" >1009</td> \n",
       "        <td id=\"T_e9375c22_f7bf_11e8_865d_e1a478df3cf6row2_col1\" class=\"data row2 col1\" >1948</td> \n",
       "        <td id=\"T_e9375c22_f7bf_11e8_865d_e1a478df3cf6row2_col2\" class=\"data row2 col2\" >45.34</td> \n",
       "        <td id=\"T_e9375c22_f7bf_11e8_865d_e1a478df3cf6row2_col3\" class=\"data row2 col3\" >149.9</td> \n",
       "        <td id=\"T_e9375c22_f7bf_11e8_865d_e1a478df3cf6row2_col4\" class=\"data row2 col4\" >366</td> \n",
       "        <td id=\"T_e9375c22_f7bf_11e8_865d_e1a478df3cf6row2_col5\" class=\"data row2 col5\" >1005</td> \n",
       "        <td id=\"T_e9375c22_f7bf_11e8_865d_e1a478df3cf6row2_col6\" class=\"data row2 col6\" >2.497e+04</td> \n",
       "    </tr>    <tr> \n",
       "        <th id=\"T_e9375c22_f7bf_11e8_865d_e1a478df3cf6level0_row3\" class=\"row_heading level0 row3\" >3</th> \n",
       "        <td id=\"T_e9375c22_f7bf_11e8_865d_e1a478df3cf6row3_col0\" class=\"data row3 col0\" >2.241</td> \n",
       "        <td id=\"T_e9375c22_f7bf_11e8_865d_e1a478df3cf6row3_col1\" class=\"data row3 col1\" >1.034</td> \n",
       "        <td id=\"T_e9375c22_f7bf_11e8_865d_e1a478df3cf6row3_col2\" class=\"data row3 col2\" >0.3837</td> \n",
       "        <td id=\"T_e9375c22_f7bf_11e8_865d_e1a478df3cf6row3_col3\" class=\"data row3 col3\" >1.287</td> \n",
       "        <td id=\"T_e9375c22_f7bf_11e8_865d_e1a478df3cf6row3_col4\" class=\"data row3 col4\" >2.335</td> \n",
       "        <td id=\"T_e9375c22_f7bf_11e8_865d_e1a478df3cf6row3_col5\" class=\"data row3 col5\" >3.464</td> \n",
       "        <td id=\"T_e9375c22_f7bf_11e8_865d_e1a478df3cf6row3_col6\" class=\"data row3 col6\" >3.464</td> \n",
       "    </tr>    <tr> \n",
       "        <th id=\"T_e9375c22_f7bf_11e8_865d_e1a478df3cf6level0_row4\" class=\"row_heading level0 row4\" >4</th> \n",
       "        <td id=\"T_e9375c22_f7bf_11e8_865d_e1a478df3cf6row4_col0\" class=\"data row4 col0\" >2.285</td> \n",
       "        <td id=\"T_e9375c22_f7bf_11e8_865d_e1a478df3cf6row4_col1\" class=\"data row4 col1\" >1.01</td> \n",
       "        <td id=\"T_e9375c22_f7bf_11e8_865d_e1a478df3cf6row4_col2\" class=\"data row4 col2\" >0.4253</td> \n",
       "        <td id=\"T_e9375c22_f7bf_11e8_865d_e1a478df3cf6row4_col3\" class=\"data row4 col3\" >1.359</td> \n",
       "        <td id=\"T_e9375c22_f7bf_11e8_865d_e1a478df3cf6row4_col4\" class=\"data row4 col4\" >2.335</td> \n",
       "        <td id=\"T_e9375c22_f7bf_11e8_865d_e1a478df3cf6row4_col5\" class=\"data row4 col5\" >3.464</td> \n",
       "        <td id=\"T_e9375c22_f7bf_11e8_865d_e1a478df3cf6row4_col6\" class=\"data row4 col6\" >3.464</td> \n",
       "    </tr>    <tr> \n",
       "        <th id=\"T_e9375c22_f7bf_11e8_865d_e1a478df3cf6level0_row5\" class=\"row_heading level0 row5\" >5</th> \n",
       "        <td id=\"T_e9375c22_f7bf_11e8_865d_e1a478df3cf6row5_col0\" class=\"data row5 col0\" >9.354e+06</td> \n",
       "        <td id=\"T_e9375c22_f7bf_11e8_865d_e1a478df3cf6row5_col1\" class=\"data row5 col1\" >3.229e+05</td> \n",
       "        <td id=\"T_e9375c22_f7bf_11e8_865d_e1a478df3cf6row5_col2\" class=\"data row5 col2\" >8e+06</td> \n",
       "        <td id=\"T_e9375c22_f7bf_11e8_865d_e1a478df3cf6row5_col3\" class=\"data row5 col3\" >9.333e+06</td> \n",
       "        <td id=\"T_e9375c22_f7bf_11e8_865d_e1a478df3cf6row5_col4\" class=\"data row5 col4\" >9.372e+06</td> \n",
       "        <td id=\"T_e9375c22_f7bf_11e8_865d_e1a478df3cf6row5_col5\" class=\"data row5 col5\" >9.504e+06</td> \n",
       "        <td id=\"T_e9375c22_f7bf_11e8_865d_e1a478df3cf6row5_col6\" class=\"data row5 col6\" >9.995e+06</td> \n",
       "    </tr></tbody> \n",
       "</table> "
      ],
      "text/plain": [
       "<pandas.io.formats.style.Styler at 0x7fa90ed72f60>"
      ]
     },
     "metadata": {},
     "output_type": "display_data"
    }
   ],
   "source": [
    "from IPython.display import display, HTML\n",
    "import pandas as pd\n",
    "pd.set_option('display.precision',4)\n",
    "pd.set_option('display.float_format', lambda x: '{.3f}'.format(x))\n",
    "\n",
    "cols = ['count', 'mean', 'std', 'min', 'Max', '50%']\n",
    "\n",
    "th_props = [('font-size', '14px'),('text-align', 'center'),\n",
    "            ('font-weight', 'bold'),('color', '#6d6d6d'),('background-color', '#CCC')]\n",
    "\n",
    "# Set CSS properties for td elements in dataframe\n",
    "td_props = [('font-size', '14px'),('text-align', 'center')]\n",
    "\n",
    "# Set table styles\n",
    "styles = [dict(selector=\"th\", props=th_props), dict(selector=\"td\", props=td_props)]\n",
    "\n",
    "for k, df in enumerate(clustered_dataframes):\n",
    "    style = df.describe().drop('count').transpose().style.set_table_styles(styles)\n",
    "    print('Cluster {}:'.format(k))\n",
    "    print('Quantidade de dados: {}'.format(len(df)))\n",
    "    display(style)\n",
    "    \n"
   ]
  },
  {
   "cell_type": "markdown",
   "metadata": {},
   "source": [
    "# 6. Conclusão\n",
    "\n",
    "Com os índices de qualidade de cluster, podemos ter uma métrica objetiva para decidir a quantidade de clusters, ao invés de uma análise subjetiva que, devido à nossa impossibilidade de enxergar mais que 3 dimensões, pode impedir a visualização de separações nos dados.\n",
    "\n",
    "Alguns desses índices são muito demorados por necessitarem calcular distâncias entre várias combinações 2 a 2 dos dados, mas ao criar uma matriz de distância para guardar as distâncias já calculadas, o processo de testar as métricas para vários Ks se torna extremamente mais rápido.\n",
    "\n",
    "Link do github: https://github.com/ericklt/pattern-recognition"
   ]
  }
 ],
 "metadata": {
  "kernelspec": {
   "display_name": "Python 3",
   "language": "python",
   "name": "python3"
  },
  "language_info": {
   "codemirror_mode": {
    "name": "ipython",
    "version": 3
   },
   "file_extension": ".py",
   "mimetype": "text/x-python",
   "name": "python",
   "nbconvert_exporter": "python",
   "pygments_lexer": "ipython3",
   "version": "3.7.0"
  }
 },
 "nbformat": 4,
 "nbformat_minor": 2
}
